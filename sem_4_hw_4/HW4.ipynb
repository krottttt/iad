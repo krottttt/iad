{
 "cells": [
  {
   "cell_type": "markdown",
   "id": "ee35127e",
   "metadata": {
    "id": "ee35127e"
   },
   "source": [
    "# Прикладные задачи анализа данных\n",
    "\n",
    "## Домашнее задание 4\n",
    "\n",
    "В этой работе мы будем решать задачу рекомендаций музыки. Для этого мы реализуем метод коллаборативной фильтрации и модель со скрытыми переменными, сравним их между собой и попытаемся сделать выводы. Во всех заданиях разрешается переписывать код по своему усмотрению, предложенные шаблоны несут лишь рекомендательный характер. За дополнительные эксперименты с методами и их анализ можно получить бонусные баллы."
   ]
  },
  {
   "cell_type": "code",
   "execution_count": 222,
   "id": "75f6503b",
   "metadata": {
    "id": "75f6503b"
   },
   "outputs": [],
   "source": [
    "from sklearn.preprocessing import LabelEncoder\n",
    "\n",
    "import pandas as pd\n",
    "import numpy as np\n",
    "from tqdm.notebook import tqdm\n",
    "from typing import Callable, List\n",
    "\n",
    "import matplotlib.pyplot as plt\n",
    "import seaborn as sns\n",
    "import scipy.sparse as scs\n",
    "\n",
    "import warnings"
   ]
  },
  {
   "cell_type": "code",
   "execution_count": 2,
   "id": "q39kPlJ6jsQc",
   "metadata": {
    "colab": {
     "base_uri": "https://localhost:8080/",
     "height": 204
    },
    "id": "q39kPlJ6jsQc",
    "outputId": "67fc7d37-90b0-4c9a-fb3d-f75ad031ed81"
   },
   "outputs": [
    {
     "data": {
      "text/html": [
       "<div>\n",
       "<style scoped>\n",
       "    .dataframe tbody tr th:only-of-type {\n",
       "        vertical-align: middle;\n",
       "    }\n",
       "\n",
       "    .dataframe tbody tr th {\n",
       "        vertical-align: top;\n",
       "    }\n",
       "\n",
       "    .dataframe thead th {\n",
       "        text-align: right;\n",
       "    }\n",
       "</style>\n",
       "<table border=\"1\" class=\"dataframe\">\n",
       "  <thead>\n",
       "    <tr style=\"text-align: right;\">\n",
       "      <th></th>\n",
       "      <th>userId</th>\n",
       "      <th>trackId</th>\n",
       "    </tr>\n",
       "  </thead>\n",
       "  <tbody>\n",
       "    <tr>\n",
       "      <th>0</th>\n",
       "      <td>0</td>\n",
       "      <td>14</td>\n",
       "    </tr>\n",
       "    <tr>\n",
       "      <th>1</th>\n",
       "      <td>0</td>\n",
       "      <td>95</td>\n",
       "    </tr>\n",
       "    <tr>\n",
       "      <th>2</th>\n",
       "      <td>0</td>\n",
       "      <td>219</td>\n",
       "    </tr>\n",
       "    <tr>\n",
       "      <th>3</th>\n",
       "      <td>0</td>\n",
       "      <td>220</td>\n",
       "    </tr>\n",
       "    <tr>\n",
       "      <th>4</th>\n",
       "      <td>0</td>\n",
       "      <td>404</td>\n",
       "    </tr>\n",
       "  </tbody>\n",
       "</table>\n",
       "</div>"
      ],
      "text/plain": [
       "   userId  trackId\n",
       "0       0       14\n",
       "1       0       95\n",
       "2       0      219\n",
       "3       0      220\n",
       "4       0      404"
      ]
     },
     "execution_count": 2,
     "metadata": {},
     "output_type": "execute_result"
    }
   ],
   "source": [
    "ratings = pd.read_csv('music_dataset.csv')\n",
    "ratings.head()"
   ]
  },
  {
   "cell_type": "code",
   "execution_count": 3,
   "id": "PgGrUf6TSvHC",
   "metadata": {
    "colab": {
     "base_uri": "https://localhost:8080/",
     "height": 204
    },
    "id": "PgGrUf6TSvHC",
    "outputId": "2bdd725a-c737-4f08-f520-4fcd94dca36b"
   },
   "outputs": [
    {
     "data": {
      "text/html": [
       "<div>\n",
       "<style scoped>\n",
       "    .dataframe tbody tr th:only-of-type {\n",
       "        vertical-align: middle;\n",
       "    }\n",
       "\n",
       "    .dataframe tbody tr th {\n",
       "        vertical-align: top;\n",
       "    }\n",
       "\n",
       "    .dataframe thead th {\n",
       "        text-align: right;\n",
       "    }\n",
       "</style>\n",
       "<table border=\"1\" class=\"dataframe\">\n",
       "  <thead>\n",
       "    <tr style=\"text-align: right;\">\n",
       "      <th></th>\n",
       "      <th>id</th>\n",
       "      <th>name</th>\n",
       "      <th>artists</th>\n",
       "    </tr>\n",
       "  </thead>\n",
       "  <tbody>\n",
       "    <tr>\n",
       "      <th>0</th>\n",
       "      <td>0</td>\n",
       "      <td>What There Is</td>\n",
       "      <td>['a-ha']</td>\n",
       "    </tr>\n",
       "    <tr>\n",
       "      <th>1</th>\n",
       "      <td>1</td>\n",
       "      <td>I'll Play The Blues For You</td>\n",
       "      <td>['Albert King']</td>\n",
       "    </tr>\n",
       "    <tr>\n",
       "      <th>2</th>\n",
       "      <td>2</td>\n",
       "      <td>Breaking Up Somebody's Home</td>\n",
       "      <td>['Albert King']</td>\n",
       "    </tr>\n",
       "    <tr>\n",
       "      <th>3</th>\n",
       "      <td>3</td>\n",
       "      <td>Imma Be</td>\n",
       "      <td>['Black Eyed Peas']</td>\n",
       "    </tr>\n",
       "    <tr>\n",
       "      <th>4</th>\n",
       "      <td>4</td>\n",
       "      <td>Boom Boom Pow</td>\n",
       "      <td>['Black Eyed Peas']</td>\n",
       "    </tr>\n",
       "  </tbody>\n",
       "</table>\n",
       "</div>"
      ],
      "text/plain": [
       "   id                         name              artists\n",
       "0   0                What There Is             ['a-ha']\n",
       "1   1  I'll Play The Blues For You      ['Albert King']\n",
       "2   2  Breaking Up Somebody's Home      ['Albert King']\n",
       "3   3                      Imma Be  ['Black Eyed Peas']\n",
       "4   4                Boom Boom Pow  ['Black Eyed Peas']"
      ]
     },
     "execution_count": 3,
     "metadata": {},
     "output_type": "execute_result"
    }
   ],
   "source": [
    "tracks_info = pd.read_csv('tracks_info.csv')\n",
    "tracks_info.head()"
   ]
  },
  {
   "cell_type": "markdown",
   "id": "SSvgStZZIEdz",
   "metadata": {
    "id": "SSvgStZZIEdz"
   },
   "source": [
    "Для оценки качества рекомендаций мы будем использовать метрику $MAP@k$.\n",
    "\n",
    "$$\n",
    "MAP@k = \\frac{1}{N} \\sum_{u = 1}^N AP_u@k\n",
    "$$\n",
    "$$\n",
    "AP_u@k = \\frac{1}{\\min(k, n_u)} \\sum_{i=1}^k r_u(i) p_u@i\n",
    "$$\n",
    "$$p_u@k = \\dfrac{1}{k}\\sum_{j=1}^k r_u(j)$$\n",
    "\n",
    "\n",
    "*   $N$ - количество пользователей.\n",
    "*   $n_u$ - число релевантных треков пользователя $u$ на тестовом промежутке.\n",
    "*   $r_u(i)$ - бинарная величина: относится ли трек на позиции $i$ к релевантным."
   ]
  },
  {
   "cell_type": "markdown",
   "id": "UDTWQLoKS3nA",
   "metadata": {
    "id": "UDTWQLoKS3nA"
   },
   "source": [
    "**Задание 1 (0.5 балла).** Реализуйте метрику $MAP@k$."
   ]
  },
  {
   "cell_type": "code",
   "execution_count": 4,
   "id": "8YW8fMfnQY08",
   "metadata": {
    "id": "8YW8fMfnQY08",
    "scrolled": true
   },
   "outputs": [],
   "source": [
    "def pk(r):\n",
    "    return sum(r[:k])/k\n",
    "\n",
    "def mapk(relevant: List[List[int]], predicted: List[List[int]], k: int = 20):\n",
    "    map_k = 0\n",
    "    for i,pred in enumerate(predicted):\n",
    "#         print(i)\n",
    "        r_u = np.in1d(pred,relevant[i])\n",
    "        ap_k = 0\n",
    "        for j in range(k):\n",
    "            ap_k += r_u[j]*sum(r_u[:j+1])/(j+1)\n",
    "        ap_k *= 1/min(k,len(relevant[i])) \n",
    "        map_k += ap_k\n",
    "    return map_k/(i+1)"
   ]
  },
  {
   "cell_type": "code",
   "execution_count": 5,
   "id": "JbKyNPk8TaIG",
   "metadata": {
    "id": "JbKyNPk8TaIG"
   },
   "outputs": [
    {
     "name": "stdout",
     "output_type": "stream",
     "text": [
      "0.4331\n"
     ]
    }
   ],
   "source": [
    "relevant = [\n",
    "    [1, 7, 6, 2, 8],\n",
    "    [1, 5, 4, 8],\n",
    "    [8, 2, 5]\n",
    "]\n",
    "\n",
    "pred = [\n",
    "    [8, 1, 5, 0, 7, 2, 9, 4],\n",
    "    [0, 1, 8, 5, 3, 4, 7, 9],\n",
    "    [9, 2, 0, 6, 8, 5, 3, 7]\n",
    "]\n",
    "print(round(mapk(relevant, pred, k=5), 4))\n",
    "assert round(mapk(relevant, pred, k=5), 4) == 0.4331"
   ]
  },
  {
   "cell_type": "markdown",
   "id": "138afcf2",
   "metadata": {
    "id": "WFYR-X49HlMl"
   },
   "source": [
    "Разделим данные на тренировочные и тестовые так, чтобы в теcтовый датасет попали 50 последних треков каждого пользователя."
   ]
  },
  {
   "cell_type": "code",
   "execution_count": 6,
   "id": "1bfab920",
   "metadata": {
    "id": "TEzz_ym8Go_L"
   },
   "outputs": [],
   "source": [
    "def train_test_split(ratings):\n",
    "    train_ratings, test_ratings = [], []\n",
    "    num_test_samples = 50\n",
    "\n",
    "    # getting train samples\n",
    "    for userId, user_data in tqdm(ratings.groupby('userId')):\n",
    "        train_ratings += [user_data[:-num_test_samples]]\n",
    "\n",
    "    train_ratings = pd.concat(train_ratings).reset_index(drop=True)\n",
    "    all_train_items = train_ratings['trackId'].unique()\n",
    "\n",
    "    # getting train samples\n",
    "    # we drop all tracks that are not presented it the training samples,\n",
    "    # because we won't be able to learn representations for them\n",
    "    for userId, user_data in tqdm(ratings.groupby('userId')):\n",
    "        test_items = user_data[-num_test_samples:]\n",
    "        test_items = test_items[np.isin(test_items['trackId'], all_train_items)]\n",
    "        test_ratings += [test_items]\n",
    "\n",
    "    test_ratings = pd.concat(test_ratings).reset_index(drop=True)\n",
    "\n",
    "    return train_ratings, test_ratings"
   ]
  },
  {
   "cell_type": "code",
   "execution_count": 7,
   "id": "vuyiM1Lk4L-e",
   "metadata": {
    "colab": {
     "base_uri": "https://localhost:8080/",
     "height": 81,
     "referenced_widgets": [
      "1b31eda686b54f7ca8c66aef18c987f3",
      "c8a26ff7a9504ca7b9982a1fdc958364",
      "55a177c209e6414d8daae0aae25ab569",
      "5696660af0a04fbbb0743796bdd5f9b3",
      "35c5904b82544e9cac71cf7b0b67cc1e",
      "eac1572340b3491b987713ddf4fef228",
      "bc2f4104184749dbb7dcd2b5c6235238",
      "2943eba3c235416b809e23186d5625ef",
      "2ded17a125a44376abbe87ef29f2aa17",
      "0b2d687ab70343a999f3a37dfe030a9c",
      "2571c66c254d4a6c9ae5a20812e41641",
      "b1c919ee0c85468a89413d98d9926b50",
      "09367b7a291f4c81a93f79ac3bf09e9b",
      "3339a154ce00450b8d07b45eda2e887c",
      "41b564f7d67b4422abcd5ac9925eb1f2",
      "bfd4906b7ffc4ade9650aa96d140860a",
      "57bc2e2902994e799d4378888bdb342a",
      "4631243cc4dd4d1a8e3ffe3a8da29cf7",
      "a0cfdce0ec8544c49332cc831f67e777",
      "c5b91a082e7d40879f66b6685fdfcfe0",
      "f0fbd1b9ea074c1b9969417c02b32348",
      "7935cc6e74c14372a82276f0a28e4559"
     ]
    },
    "id": "vuyiM1Lk4L-e",
    "outputId": "5e4220b9-9c9e-4dba-b85d-c12ebb3a2f7a"
   },
   "outputs": [
    {
     "data": {
      "application/vnd.jupyter.widget-view+json": {
       "model_id": "c19db19765a14dceae0ef1eb600b1e2e",
       "version_major": 2,
       "version_minor": 0
      },
      "text/plain": [
       "  0%|          | 0/241 [00:00<?, ?it/s]"
      ]
     },
     "metadata": {},
     "output_type": "display_data"
    },
    {
     "data": {
      "application/vnd.jupyter.widget-view+json": {
       "model_id": "06ebfe50958a4bee84d761fd81cbf886",
       "version_major": 2,
       "version_minor": 0
      },
      "text/plain": [
       "  0%|          | 0/241 [00:00<?, ?it/s]"
      ]
     },
     "metadata": {},
     "output_type": "display_data"
    }
   ],
   "source": [
    "train_ratings, test_ratings = train_test_split(ratings)"
   ]
  },
  {
   "cell_type": "markdown",
   "id": "P3ZVqBMjBqfe",
   "metadata": {
    "id": "P3ZVqBMjBqfe"
   },
   "source": [
    "Почистим табличку с информацией о треках и закодируем id треков так, чтобы они соответствовали их порядковому номеру."
   ]
  },
  {
   "cell_type": "code",
   "execution_count": 8,
   "id": "-SCTsxeYwCO-",
   "metadata": {
    "id": "-SCTsxeYwCO-"
   },
   "outputs": [],
   "source": [
    "redundant_rows = np.where(~np.isin(tracks_info['id'], train_ratings['trackId'].unique()))[0]\n",
    "tracks_info.drop(redundant_rows, inplace=True)\n",
    "tracks_info = tracks_info.reset_index(drop=True)"
   ]
  },
  {
   "cell_type": "code",
   "execution_count": 9,
   "id": "cVfC-rfU3J49",
   "metadata": {
    "id": "cVfC-rfU3J49"
   },
   "outputs": [],
   "source": [
    "def ids_encoder(ratings):\n",
    "    users = sorted(ratings['userId'].unique())\n",
    "    items = sorted(ratings['trackId'].unique())\n",
    "\n",
    "    # create users and items encoders\n",
    "    uencoder = LabelEncoder()\n",
    "    iencoder = LabelEncoder()\n",
    "\n",
    "    # fit users and items ids to the corresponding encoder\n",
    "    uencoder.fit(users)\n",
    "    iencoder.fit(items)\n",
    "\n",
    "    return uencoder, iencoder"
   ]
  },
  {
   "cell_type": "code",
   "execution_count": 10,
   "id": "xw2VDBz9v6LT",
   "metadata": {
    "id": "xw2VDBz9v6LT"
   },
   "outputs": [],
   "source": [
    "uencoder, iencoder = ids_encoder(train_ratings)\n",
    "train_ratings['trackId'] = iencoder.transform(train_ratings['trackId'].tolist())\n",
    "test_ratings['trackId'] = iencoder.transform(test_ratings['trackId'].tolist())\n",
    "tracks_info['id'] = iencoder.transform(tracks_info['id'].tolist())"
   ]
  },
  {
   "cell_type": "code",
   "execution_count": 11,
   "id": "GfjwnUWTuhRD",
   "metadata": {
    "colab": {
     "base_uri": "https://localhost:8080/",
     "height": 204
    },
    "id": "GfjwnUWTuhRD",
    "outputId": "a68791ba-ee61-4485-f6d6-d38bf7671393"
   },
   "outputs": [
    {
     "data": {
      "text/html": [
       "<div>\n",
       "<style scoped>\n",
       "    .dataframe tbody tr th:only-of-type {\n",
       "        vertical-align: middle;\n",
       "    }\n",
       "\n",
       "    .dataframe tbody tr th {\n",
       "        vertical-align: top;\n",
       "    }\n",
       "\n",
       "    .dataframe thead th {\n",
       "        text-align: right;\n",
       "    }\n",
       "</style>\n",
       "<table border=\"1\" class=\"dataframe\">\n",
       "  <thead>\n",
       "    <tr style=\"text-align: right;\">\n",
       "      <th></th>\n",
       "      <th>userId</th>\n",
       "      <th>trackId</th>\n",
       "    </tr>\n",
       "  </thead>\n",
       "  <tbody>\n",
       "    <tr>\n",
       "      <th>0</th>\n",
       "      <td>0</td>\n",
       "      <td>14</td>\n",
       "    </tr>\n",
       "    <tr>\n",
       "      <th>1</th>\n",
       "      <td>0</td>\n",
       "      <td>95</td>\n",
       "    </tr>\n",
       "    <tr>\n",
       "      <th>2</th>\n",
       "      <td>0</td>\n",
       "      <td>219</td>\n",
       "    </tr>\n",
       "    <tr>\n",
       "      <th>3</th>\n",
       "      <td>0</td>\n",
       "      <td>220</td>\n",
       "    </tr>\n",
       "    <tr>\n",
       "      <th>4</th>\n",
       "      <td>0</td>\n",
       "      <td>404</td>\n",
       "    </tr>\n",
       "  </tbody>\n",
       "</table>\n",
       "</div>"
      ],
      "text/plain": [
       "   userId  trackId\n",
       "0       0       14\n",
       "1       0       95\n",
       "2       0      219\n",
       "3       0      220\n",
       "4       0      404"
      ]
     },
     "execution_count": 11,
     "metadata": {},
     "output_type": "execute_result"
    }
   ],
   "source": [
    "train_ratings.head()"
   ]
  },
  {
   "cell_type": "code",
   "execution_count": 12,
   "id": "rtV91NkmuizE",
   "metadata": {
    "colab": {
     "base_uri": "https://localhost:8080/",
     "height": 204
    },
    "id": "rtV91NkmuizE",
    "outputId": "4de6e82c-4ab0-43ff-c70a-dcabe5c9bd74"
   },
   "outputs": [
    {
     "data": {
      "text/html": [
       "<div>\n",
       "<style scoped>\n",
       "    .dataframe tbody tr th:only-of-type {\n",
       "        vertical-align: middle;\n",
       "    }\n",
       "\n",
       "    .dataframe tbody tr th {\n",
       "        vertical-align: top;\n",
       "    }\n",
       "\n",
       "    .dataframe thead th {\n",
       "        text-align: right;\n",
       "    }\n",
       "</style>\n",
       "<table border=\"1\" class=\"dataframe\">\n",
       "  <thead>\n",
       "    <tr style=\"text-align: right;\">\n",
       "      <th></th>\n",
       "      <th>userId</th>\n",
       "      <th>trackId</th>\n",
       "    </tr>\n",
       "  </thead>\n",
       "  <tbody>\n",
       "    <tr>\n",
       "      <th>0</th>\n",
       "      <td>0</td>\n",
       "      <td>57582</td>\n",
       "    </tr>\n",
       "    <tr>\n",
       "      <th>1</th>\n",
       "      <td>0</td>\n",
       "      <td>57802</td>\n",
       "    </tr>\n",
       "    <tr>\n",
       "      <th>2</th>\n",
       "      <td>0</td>\n",
       "      <td>57957</td>\n",
       "    </tr>\n",
       "    <tr>\n",
       "      <th>3</th>\n",
       "      <td>0</td>\n",
       "      <td>58174</td>\n",
       "    </tr>\n",
       "    <tr>\n",
       "      <th>4</th>\n",
       "      <td>0</td>\n",
       "      <td>59168</td>\n",
       "    </tr>\n",
       "  </tbody>\n",
       "</table>\n",
       "</div>"
      ],
      "text/plain": [
       "   userId  trackId\n",
       "0       0    57582\n",
       "1       0    57802\n",
       "2       0    57957\n",
       "3       0    58174\n",
       "4       0    59168"
      ]
     },
     "execution_count": 12,
     "metadata": {},
     "output_type": "execute_result"
    }
   ],
   "source": [
    "test_ratings.head()"
   ]
  },
  {
   "cell_type": "markdown",
   "id": "COtKDquLRrVV",
   "metadata": {
    "id": "COtKDquLRrVV"
   },
   "source": [
    "Соберем все релевантные треки для каждого пользователя в список."
   ]
  },
  {
   "cell_type": "code",
   "execution_count": 13,
   "id": "UOCGl5rpPrDn",
   "metadata": {
    "id": "UOCGl5rpPrDn"
   },
   "outputs": [],
   "source": [
    "test_relevant = []\n",
    "test_users = []\n",
    "for user_id, user_data in test_ratings.groupby('userId'):\n",
    "    test_relevant += [user_data['trackId'].tolist()]\n",
    "    test_users.append(user_id)"
   ]
  },
  {
   "cell_type": "code",
   "execution_count": 14,
   "id": "296bc08d",
   "metadata": {},
   "outputs": [],
   "source": [
    "train_relevant = []\n",
    "train_users = []\n",
    "for user_id, user_data in train_ratings.groupby('userId'):\n",
    "    train_relevant += [user_data['trackId'].tolist()]\n",
    "    train_users.append(user_id)"
   ]
  },
  {
   "cell_type": "markdown",
   "id": "3UyBjs1SULH9",
   "metadata": {
    "id": "3UyBjs1SULH9"
   },
   "source": [
    "**Задание 2 (0.5 балла).** Реализуйте метод `get_test_recommendations` в классе `BaseModel`. Он принимает на вход параметр `k` и возвращает массив из `k` наиболее подходящих треков для каждого пользователя. Не забывайте удалять уже прослушанные треки из рекомендуемых."
   ]
  },
  {
   "cell_type": "code",
   "execution_count": 215,
   "id": "sXnUGtM3XOp7",
   "metadata": {
    "id": "sXnUGtM3XOp7"
   },
   "outputs": [],
   "source": [
    "class BaseModel:\n",
    "    def __init__(self, ratings: pd.DataFrame):\n",
    "        self.ratings = ratings\n",
    "        self.n_users = len(np.unique(self.ratings['userId']))\n",
    "        self.n_items = len(np.unique(self.ratings['trackId']))\n",
    "\n",
    "        self.R = np.zeros((self.n_users, self.n_items))\n",
    "        self.R[self.ratings['userId'], self.ratings['trackId']] = 1.\n",
    "#         print(self.R)\n",
    "        \n",
    "    def recommend(self, uid: int):\n",
    "        \"\"\"\n",
    "        param uid: int - user's id\n",
    "        return: [n_items] - vector of recommended items sorted by their scores in descending order\n",
    "        \"\"\"\n",
    "        raise NotImplementedError\n",
    "\n",
    "    def remove_train_items(self, preds: List[List[int]], k: int):\n",
    "        \"\"\"\n",
    "        param preds: [n_users, n_items] - recommended items for each user\n",
    "        param k: int\n",
    "        return: np.array [n_users, k] - recommended items without training examples\n",
    "        \"\"\"\n",
    "        new_preds = np.zeros((len(preds), k), dtype=int)\n",
    "        for user_id, user_data in self.ratings.groupby('userId'):\n",
    "            user_preds = preds[user_id]\n",
    "            new_preds[user_id] = user_preds[~np.in1d(user_preds, user_data['trackId'])][:k]\n",
    "        return new_preds\n",
    "\n",
    "    def get_test_recommendations(self, k: int,test_users:List[int]):\n",
    "        test_preds = []\n",
    "        for uid in np.unique(self.ratings['userId']):\n",
    "            test_preds.append(self.recommend(uid))\n",
    "#             print(test_preds[-1])\n",
    "        test_preds = self.remove_train_items(test_preds,k)\n",
    "        return test_preds[test_users]"
   ]
  },
  {
   "cell_type": "markdown",
   "id": "jMdKX1DZ-o4V",
   "metadata": {
    "id": "jMdKX1DZ-o4V"
   },
   "source": [
    "## Часть 1. Коллаборативная фильтрация (User2User)"
   ]
  },
  {
   "cell_type": "markdown",
   "id": "t_ZLzg_0XxVf",
   "metadata": {
    "id": "t_ZLzg_0XxVf"
   },
   "source": [
    "Идея: чтобы выбрать треки, которые понравятся пользователю, можно набрать несколько похожих на него пользователей (соседей) и посмотреть, какие треки они слушают. После этого остается агрегировать треки этих пользователей и выбрать самые популярные. Соответственно, задача состоит из двух частей: выбора функции похожести двух пользователей и способа агрегации.\n",
    "\n",
    "В качестве функции похожести мы будем использовать две метрики:\n",
    "\n",
    "1. Корреляция Пирсона $$s(u, v) = \\frac{\\sum_{i \\in I_u \\cap I_v} r_{ui}r_{vi}}{\\sqrt{\\sum_{i \\in I_u} r_{ui} ^2}\\sqrt{\\sum_{i \\in I_v} r_{vi}^2}} $$\n",
    "\n",
    "2. Мера Жаккара\n",
    "\n",
    "$$ s(u, v) = \\frac{|I_u \\cap I_v|}{|I_u \\cup I_v|} $$\n",
    "\n",
    "\n",
    "Корреляция Пирсона немного видоизменена, чтобы подходить под нашу задачу.\n",
    "\n",
    "\n",
    "Во всех формулах \n",
    "* $I_u$ - множество треков, прослушанных пользователем $u$.\n",
    "* $r_{ui}$ - прослушал ли пользователь $u$ трек $i$ (0 или 1).\n",
    "\n",
    "Множество соседей определим как $$N(u) = \\{ v \\in U \\setminus \\{u\\} \\mid s(u, v) > \\alpha\\},$$ где $\\alpha \\, - $ гиперпараметр.\n",
    "\n",
    "\n",
    "\n",
    "Для агрегации мы будем пользоваться следующей формулой.\n",
    "$$\n",
    "\\hat{r}_{ui} = \\frac{\\sum_{v \\in N(u)} s(u, v) r_{vi}}{\\sum_{v \\in N(u)} |s(u, v)|}\n",
    "$$"
   ]
  },
  {
   "cell_type": "markdown",
   "id": "YJyD1LVTKK9A",
   "metadata": {
    "id": "YJyD1LVTKK9A"
   },
   "source": [
    "**Задание 3.1 (0.5 балла).** Реализуйте функцию подсчета корреляции Пирсона.\n",
    "\n",
    "**Задание 3.2 (0.5 балла).** Реализуйте функцию подсчета меры Жаккара.\n",
    "\n",
    "Функции принимают матрицу оценок и вектор оценок пользователя $u$ и возвращают вектор со значениями похожести пользователя $u$ на всех пользователей. Старайтесь писать оптимизированный код, за неэффективную реализацию оценка может быть снижена."
   ]
  },
  {
   "cell_type": "code",
   "execution_count": 216,
   "id": "rRvSRm_aWZMR",
   "metadata": {
    "id": "rRvSRm_aWZMR"
   },
   "outputs": [],
   "source": [
    "def pearson(ratings: np.array, user_vector: np.array) -> np.array:\n",
    "    s = np.divide(ratings@user_vector.T,np.sqrt(np.sum(ratings,1))*np.sqrt(np.sum(user_vector)))\n",
    "    mask = s ==1\n",
    "    s[mask] = -1\n",
    "    return s\n",
    "\n",
    "\n",
    "def jaccard(ratings: np.array, user_vector: np.array) -> np.array:\n",
    "    s = np.divide(ratings@user_vector.T,np.sum(ratings+user_vector!=0,1))\n",
    "    mask = s ==1\n",
    "    s[mask] = -1\n",
    "    return s\n",
    "\n",
    "\n",
    "def r_and(ratings: np.array, user_vector: np.array) -> np.array:\n",
    "    return np.random.rand(ratings.shape[0])  "
   ]
  },
  {
   "cell_type": "markdown",
   "id": "WMLtM7ffNWdx",
   "metadata": {
    "id": "WMLtM7ffNWdx"
   },
   "source": [
    "**Задание 4 (1 балл).** Реализуйте методы `similarity` и `recommend` класса `User2User`. `recommend` возвращает индексы треков, отсортированные в порядке убывания предсказанных оценок.\n"
   ]
  },
  {
   "cell_type": "code",
   "execution_count": 217,
   "id": "8bfc68b3",
   "metadata": {},
   "outputs": [],
   "source": [
    "class User2User(BaseModel):\n",
    "    def __init__(self, ratings, similarity_func,sparse: bool):\n",
    "        super().__init__(ratings)\n",
    "\n",
    "        assert similarity_func in [pearson, jaccard,r_and]\n",
    "        self.sparse = sparse\n",
    "        self.similarity_func = similarity_func\n",
    "        self.alpha = 0.02\n",
    "        if self.sparse:\n",
    "            self.R = scs.csr_matrix(self.R)\n",
    "\n",
    "    def similarity(self, user_vector: np.array):\n",
    "        \"\"\"\n",
    "        user_vector: [n_items]\n",
    "        \"\"\"\n",
    "        if self.sparse:\n",
    "            user_vector = user_vector.toarray()\n",
    "        s = np.asarray(self.similarity_func(self.R,user_vector)).squeeze()\n",
    "        mask = s>self.alpha\n",
    "        s = s[mask]\n",
    "#         print(s)\n",
    "        new_r = s@self.R[mask]/np.sum(s)\n",
    "        return new_r\n",
    "        \n",
    "\n",
    "    def recommend(self, uid: int):\n",
    "        r = self.similarity(self.R[uid])\n",
    "#         print(r)\n",
    "#         print(np.argsort(r))\n",
    "        return np.argsort(r)[::-1]"
   ]
  },
  {
   "cell_type": "markdown",
   "id": "kqEwJiFOSs2r",
   "metadata": {
    "id": "kqEwJiFOSs2r"
   },
   "source": [
    "**Задание 5 (1 балл).** Постройте графики зависимости значений $MAP@k$ от разных $k$ для обоих функций похожести, сравните их между собой, а также с предсказаниями случайного алгоритма и сделайте выводы."
   ]
  },
  {
   "cell_type": "code",
   "execution_count": 223,
   "id": "d1f58a6d",
   "metadata": {
    "scrolled": true
   },
   "outputs": [],
   "source": [
    "warnings.filterwarnings(\"ignore\")"
   ]
  },
  {
   "cell_type": "code",
   "execution_count": 224,
   "id": "tyswL-dlNpy7",
   "metadata": {
    "id": "tyswL-dlNpy7",
    "scrolled": false
   },
   "outputs": [
    {
     "data": {
      "application/vnd.jupyter.widget-view+json": {
       "model_id": "a6cc1a187c1f4b9dac104e7e63a91f6f",
       "version_major": 2,
       "version_minor": 0
      },
      "text/plain": [
       "  0%|          | 0/50 [00:00<?, ?it/s]"
      ]
     },
     "metadata": {},
     "output_type": "display_data"
    },
    {
     "data": {
      "text/plain": [
       "[<matplotlib.lines.Line2D at 0x247526a2aa0>]"
      ]
     },
     "execution_count": 224,
     "metadata": {},
     "output_type": "execute_result"
    },
    {
     "data": {
      "image/png": "[encoded data removed]",
      "text/plain": [
       "<Figure size 640x480 with 2 Axes>"
      ]
     },
     "metadata": {},
     "output_type": "display_data"
    },
    {
     "data": {
      "image/png": "[encoded data removed]",
      "text/plain": [
       "<Figure size 640x480 with 1 Axes>"
      ]
     },
     "metadata": {},
     "output_type": "display_data"
    }
   ],
   "source": [
    "model_j = User2User(train_ratings, jaccard,False)\n",
    "model_p = User2User(train_ratings, pearson,False)\n",
    "model_r = User2User(train_ratings, r_and,False)\n",
    "# print(model_j.remove_train_items(test_relevant,5,test_users))\n",
    "map_k_j=[]\n",
    "map_k_p=[]\n",
    "map_k_r=[]\n",
    "# print(train_relevant[0])\n",
    "for k in tqdm(range(1,51)):\n",
    "#     print(model_p.get_test_recommendations(k,test_users))\n",
    "#     print(test_relevant)\n",
    "    map_k_j.append(mapk(test_relevant,model_j.get_test_recommendations(k,test_users),k))\n",
    "    map_k_p.append(mapk(test_relevant,model_p.get_test_recommendations(k,test_users),k))\n",
    "    map_k_r.append(mapk(test_relevant,model_r.get_test_recommendations(k,test_users),k))\n",
    "f,axes = plt.subplots(1,2)\n",
    "f1,axes1 = plt.subplots(1)\n",
    "axes[0].set_title(\"jaccard\")\n",
    "axes[1].set_title(\"pearson\")\n",
    "axes1.set_title(\"random\")\n",
    "axes[0].plot(map_k_j,color='orange')\n",
    "axes[1].plot(map_k_p,color='green')\n",
    "axes1.plot(map_k_r)"
   ]
  },
  {
   "cell_type": "markdown",
   "id": "0Fy7v-b-WDQE",
   "metadata": {
    "id": "0Fy7v-b-WDQE"
   },
   "source": [
    "**Задание 6 (1.5 балла).** Как вы могли заметить, матрица оценок получается очень разреженной, но мы работаем с ней как с обычной, это не дело. Перепишите код так, чтобы все методы могли работать с разреженными матрицами и сравните скорость работы такого подхода с оригинальным."
   ]
  },
  {
   "cell_type": "code",
   "execution_count": null,
   "id": "4jQiwrTbW_DL",
   "metadata": {
    "id": "4jQiwrTbW_DL"
   },
   "outputs": [
    {
     "data": {
      "application/vnd.jupyter.widget-view+json": {
       "model_id": "d672fea4f0534799a480972fb1892414",
       "version_major": 2,
       "version_minor": 0
      },
      "text/plain": [
       "  0%|          | 0/50 [00:00<?, ?it/s]"
      ]
     },
     "metadata": {},
     "output_type": "display_data"
    }
   ],
   "source": [
    "model_j = User2User(train_ratings, jaccard,True)\n",
    "model_p = User2User(train_ratings, pearson,True)\n",
    "model_r = User2User(train_ratings, r_and,True)\n",
    "map_k_j=[]\n",
    "map_k_p=[]\n",
    "map_k_r=[]\n",
    "for k in tqdm(range(1,51)):\n",
    "    map_k_j.append(mapk(test_relevant,model_j.get_test_recommendations(k,test_users),k))\n",
    "    map_k_p.append(mapk(test_relevant,model_p.get_test_recommendations(k,test_users),k))\n",
    "    map_k_r.append(mapk(test_relevant,model_r.get_test_recommendations(k,test_users),k))\n",
    "f,axes = plt.subplots(1,2)\n",
    "f1,axes1 = plt.subplots(1)\n",
    "axes[0].set_title(\"jaccard\")\n",
    "axes[1].set_title(\"pearson\")\n",
    "axes1.set_title(\"random\")\n",
    "axes[0].plot(map_k_j,color='orange')\n",
    "axes[1].plot(map_k_p,color='green')\n",
    "axes1.plot(map_k_r)"
   ]
  },
  {
   "cell_type": "markdown",
   "id": "DmuMhWS4CEFe",
   "metadata": {
    "id": "DmuMhWS4CEFe"
   },
   "source": [
    "Мы можем посмотреть глазами, насколько хорошо модель рекомендует треки. Для этого сравним уже прослушанные треки с рекомендованными и релевантными для случайного пользователя. Хорошо ли у вас получилось?"
   ]
  },
  {
   "cell_type": "code",
   "execution_count": null,
   "id": "QAHDWgHfkCQh",
   "metadata": {
    "id": "QAHDWgHfkCQh"
   },
   "outputs": [],
   "source": [
    "user_id = np.random.randint(0, model_j.n_users)"
   ]
  },
  {
   "cell_type": "code",
   "execution_count": null,
   "id": "_d3tafMuko5O",
   "metadata": {
    "colab": {
     "base_uri": "https://localhost:8080/",
     "height": 531
    },
    "id": "_d3tafMuko5O",
    "outputId": "6c6c53ab-8329-4747-9015-9105a113d7ca"
   },
   "outputs": [],
   "source": [
    "listened_tracks = train_ratings[train_ratings.userId == user_id].trackId[:15]\n",
    "\n",
    "print('Already listened tracks:')\n",
    "\n",
    "tracks_info.loc[listened_tracks][['name', 'artists']]"
   ]
  },
  {
   "cell_type": "code",
   "execution_count": null,
   "id": "t0jACzw6ko5P",
   "metadata": {
    "colab": {
     "base_uri": "https://localhost:8080/",
     "height": 563,
     "referenced_widgets": [
      "352dc0a1aa2049da8389d238673e0d74",
      "a1fff232a45c47b4a472b376f4bb786b",
      "cdda2f364c4b4873ba46321cd0980ab2",
      "56340e3947544c43afda403ff222f5a3",
      "05d9c5e3f43f4b7f8b85ed1e3d5a74a3",
      "359731880a5947499c9a5e4be6e91c89",
      "7fd233ee0bf54983acb61485fe779111",
      "927ea86a465d45ae873fc8ae164a9f72",
      "e5fdb05a8acb41368703134ed69d7875",
      "ec6478706bb140c08b20f2ba05a17205",
      "940629cc1c16475cbd2858e55f2f881f"
     ]
    },
    "id": "t0jACzw6ko5P",
    "outputId": "c04b5613-5f4d-4e7a-a502-22aebc7c0637"
   },
   "outputs": [],
   "source": [
    "preds = np.asarray(model_j.get_test_recommendations(15,[user_id])).squeeze()\n",
    "\n",
    "print('Predicted tracks:')\n",
    "\n",
    "tracks_info.loc[preds][['name', 'artists']]"
   ]
  },
  {
   "cell_type": "code",
   "execution_count": null,
   "id": "8_UZCIxrko5Q",
   "metadata": {
    "colab": {
     "base_uri": "https://localhost:8080/",
     "height": 531
    },
    "id": "8_UZCIxrko5Q",
    "outputId": "1442d3b3-a4a8-42a7-eef6-9ce6cef7aad5"
   },
   "outputs": [],
   "source": [
    "test_tracks = test_ratings[test_ratings.userId == user_id].trackId[:15]\n",
    "\n",
    "print('Test-time tracks:')\n",
    "\n",
    "tracks_info.loc[test_tracks][['name', 'artists']]"
   ]
  },
  {
   "cell_type": "markdown",
   "id": "3laWojtltEz1",
   "metadata": {
    "id": "3laWojtltEz1"
   },
   "source": [
    "### Часть 2. Модель со скрытыми переменными"
   ]
  },
  {
   "cell_type": "markdown",
   "id": "W63eIwPEYuYG",
   "metadata": {
    "id": "W63eIwPEYuYG"
   },
   "source": [
    "В этой части мы пощупаем метод рекомендаций со скрытыми переменными.\n",
    "Идея: будем предсказывать оценки по формуле\n",
    "$$\n",
    "\\hat{r}_{ui} = \\langle p_u, q_u \\rangle,\n",
    "$$\n",
    "$p_u \\in \\mathbb{R}^d$ и $q_i \\in \\mathbb{R}^d$ - латентные векторы пользователя $u$ и объекта $i$ соответственно. \n",
    "\n",
    "Оптимизировать мы будем MSE между истинной оценкой пользователя и предсказанной с регуляризацией\n",
    "$$\n",
    "L = \\sum_{(u, i) \\in R} (\\hat{r}_{ui} - r_{ui})^2 + \\lambda \\left(\\sum_{u \\in U} \\|p_u\\|^2 + \\sum_{i \\in I} \\|q_i\\|^2\\right)\n",
    "$$"
   ]
  },
  {
   "cell_type": "markdown",
   "id": "jrZjfGb0iLk6",
   "metadata": {
    "id": "jrZjfGb0iLk6"
   },
   "source": [
    "**Задание 7 (1.5 балла).** На лекции рассматривались два подхода к оптимизации параметров. Можно это делать обычным стохастческим градинтным спуском, а можно по очереди обновлять матрицы $P, Q$, и тогда получится метод Alternating Least Squares (ALS). Выведите формулы обновления параметров для обоих методов."
   ]
  },
  {
   "cell_type": "markdown",
   "id": "knT2htHnkTPT",
   "metadata": {
    "id": "knT2htHnkTPT"
   },
   "source": [
    "**LFM:**\n",
    "\n",
    "Ответ\n",
    "\n",
    "\\\\\n",
    "**ALS:**\n",
    "\n",
    "Ответ\n",
    "\n"
   ]
  },
  {
   "cell_type": "markdown",
   "id": "T5PXIItDkiDc",
   "metadata": {
    "id": "T5PXIItDkiDc"
   },
   "source": [
    "**Задание 8 (2 балла).** Реализуйте методы оптимизации параметров для обоих алгоритмов."
   ]
  },
  {
   "cell_type": "code",
   "execution_count": null,
   "id": "vTui-yTptFIo",
   "metadata": {
    "id": "vTui-yTptFIo"
   },
   "outputs": [],
   "source": [
    "class HiddenVars(BaseModel):\n",
    "    def __init__(self, ratings, dim=128, mode='sgd'):\n",
    "        super().__init__(ratings)\n",
    "        self.dim = dim\n",
    "        \n",
    "        assert mode in ['sgd', 'als']\n",
    "        self.mode = mode\n",
    "\n",
    "        self.P = np.random.normal(size=(self.n_users, dim))\n",
    "        self.Q = np.random.normal(size=(self.n_items, dim))\n",
    "\n",
    "        self.lr = 0.0003\n",
    "        self.lamb = 0.01\n",
    "\n",
    "    def fit(self, num_iters=5):\n",
    "        for epoch in tqdm(range(num_iters)):\n",
    "\n",
    "            if self.mode == 'sgd':\n",
    "                # your code here: (￣▽￣)/♫•*¨*•.¸¸♪\n",
    "                pass\n",
    "\n",
    "            elif self.mode == 'als':\n",
    "                # your code here: (￣▽￣)/♫•*¨*•.¸¸♪\n",
    "                pass\n",
    "\n",
    "    def recommend(self, uid):\n",
    "        pred_rating = self.P[uid] @ self.Q.T\n",
    "\n",
    "        return np.argsort(pred_rating)[::-1]"
   ]
  },
  {
   "cell_type": "markdown",
   "id": "N0P3-ZcYuY3t",
   "metadata": {
    "id": "N0P3-ZcYuY3t"
   },
   "source": [
    "**Задание 9 (1 балл).** Для обоих алгоритмов подберите оптимальные значения размерности скрытого пространства $d$ и размера предсказания $k$. Как изменяется качество предсказаний с числом итераций обучения? Постройте соответствующие графики, сравните со случайным подхом и User2User, сделайте выводы. Какой алгоритм вам кажется более подходящим для данной задачи и почему?\n",
    "\n",
    "P.S. Хотя бы один из методов обучения должен приводить к лучшим результатам в сравнении с User2User подходом.\n",
    "\n",
    "P.P.S. Методу LFM свойственно переобучаться, поэтому при подборе параметров полезно смотреть на значения ошибки и оптимизируемой метрики на тренировочном датасете. Вы также можете менять начальную инициализацию и прочие параметры, за исключением архитектуры, на ваш вкус."
   ]
  },
  {
   "cell_type": "code",
   "execution_count": null,
   "id": "0D62IgV2OjDF",
   "metadata": {
    "id": "0D62IgV2OjDF"
   },
   "outputs": [],
   "source": [
    "# your code here: (￣▽￣)/♫•*¨*•.¸¸♪"
   ]
  },
  {
   "cell_type": "markdown",
   "id": "Gx4EMj0HwVlR",
   "metadata": {
    "id": "Gx4EMj0HwVlR"
   },
   "source": [
    "Если у вас получилось достаточно хорошее качество, то при оптимизации параметров марицы $Q$ похожим трекам стали соответствовать похожие векторы. Поэтому мы можем для любого трека найти наиболее близкие к нему в латентном пространстве и проверить степерь обученности модели вручную."
   ]
  },
  {
   "cell_type": "code",
   "execution_count": null,
   "id": "VFYy92Ls-53S",
   "metadata": {
    "id": "VFYy92Ls-53S"
   },
   "outputs": [],
   "source": [
    "example_trackId = tracks_info[tracks_info.name == 'Выхода нет'].iloc[0].id\n",
    "\n",
    "preds = model.Q @ model.Q[example_trackId]\n",
    "preds = preds / np.sqrt((model.Q**2).sum(axis=1) + 1e-8)\n",
    "\n",
    "track_idxs = preds.argsort()[::-1][:20]"
   ]
  },
  {
   "cell_type": "code",
   "execution_count": null,
   "id": "DzewG5rw5SQo",
   "metadata": {
    "colab": {
     "base_uri": "https://localhost:8080/",
     "height": 669
    },
    "id": "DzewG5rw5SQo",
    "outputId": "b49d9730-dab4-451a-943f-b26f2e4f4a23"
   },
   "outputs": [
    {
     "data": {
      "text/html": [
       "\n",
       "  <div id=\"df-8c5dc171-44ed-42c5-808a-b07d5b01dc4a\">\n",
       "    <div class=\"colab-df-container\">\n",
       "      <div>\n",
       "<style scoped>\n",
       "    .dataframe tbody tr th:only-of-type {\n",
       "        vertical-align: middle;\n",
       "    }\n",
       "\n",
       "    .dataframe tbody tr th {\n",
       "        vertical-align: top;\n",
       "    }\n",
       "\n",
       "    .dataframe thead th {\n",
       "        text-align: right;\n",
       "    }\n",
       "</style>\n",
       "<table border=\"1\" class=\"dataframe\">\n",
       "  <thead>\n",
       "    <tr style=\"text-align: right;\">\n",
       "      <th></th>\n",
       "      <th>name</th>\n",
       "      <th>artists</th>\n",
       "      <th>similarity</th>\n",
       "    </tr>\n",
       "  </thead>\n",
       "  <tbody>\n",
       "    <tr>\n",
       "      <th>5512</th>\n",
       "      <td>Выхода нет</td>\n",
       "      <td>['Сплин']</td>\n",
       "      <td>1.000000</td>\n",
       "    </tr>\n",
       "    <tr>\n",
       "      <th>5517</th>\n",
       "      <td>Варвара</td>\n",
       "      <td>['Би-2']</td>\n",
       "      <td>0.649796</td>\n",
       "    </tr>\n",
       "    <tr>\n",
       "      <th>17328</th>\n",
       "      <td>Я хочу быть с тобой</td>\n",
       "      <td>['Nautilus Pompilius']</td>\n",
       "      <td>0.646846</td>\n",
       "    </tr>\n",
       "    <tr>\n",
       "      <th>2058</th>\n",
       "      <td>Последний герой</td>\n",
       "      <td>['КИНО']</td>\n",
       "      <td>0.640997</td>\n",
       "    </tr>\n",
       "    <tr>\n",
       "      <th>5872</th>\n",
       "      <td>Я свободен</td>\n",
       "      <td>['Кипелов']</td>\n",
       "      <td>0.606749</td>\n",
       "    </tr>\n",
       "    <tr>\n",
       "      <th>2060</th>\n",
       "      <td>Хочу перемен</td>\n",
       "      <td>['КИНО']</td>\n",
       "      <td>0.603231</td>\n",
       "    </tr>\n",
       "    <tr>\n",
       "      <th>5515</th>\n",
       "      <td>Романс</td>\n",
       "      <td>['Сплин']</td>\n",
       "      <td>0.590318</td>\n",
       "    </tr>\n",
       "    <tr>\n",
       "      <th>24284</th>\n",
       "      <td>Как на войне</td>\n",
       "      <td>['Агата Кристи']</td>\n",
       "      <td>0.586219</td>\n",
       "    </tr>\n",
       "    <tr>\n",
       "      <th>4463</th>\n",
       "      <td>Holiday</td>\n",
       "      <td>['Green Day']</td>\n",
       "      <td>0.576644</td>\n",
       "    </tr>\n",
       "    <tr>\n",
       "      <th>2179</th>\n",
       "      <td>Восьмиклассница</td>\n",
       "      <td>['КИНО']</td>\n",
       "      <td>0.570639</td>\n",
       "    </tr>\n",
       "    <tr>\n",
       "      <th>1666</th>\n",
       "      <td>Faint</td>\n",
       "      <td>['Linkin Park']</td>\n",
       "      <td>0.569249</td>\n",
       "    </tr>\n",
       "    <tr>\n",
       "      <th>7767</th>\n",
       "      <td>ариведерчи</td>\n",
       "      <td>['Земфира']</td>\n",
       "      <td>0.563957</td>\n",
       "    </tr>\n",
       "    <tr>\n",
       "      <th>5514</th>\n",
       "      <td>Весь этот бред</td>\n",
       "      <td>['Сплин']</td>\n",
       "      <td>0.563263</td>\n",
       "    </tr>\n",
       "    <tr>\n",
       "      <th>18908</th>\n",
       "      <td>Painkiller</td>\n",
       "      <td>['Three Days Grace']</td>\n",
       "      <td>0.557021</td>\n",
       "    </tr>\n",
       "    <tr>\n",
       "      <th>16224</th>\n",
       "      <td>Пока горит свеча</td>\n",
       "      <td>['Машина времени']</td>\n",
       "      <td>0.542628</td>\n",
       "    </tr>\n",
       "    <tr>\n",
       "      <th>4742</th>\n",
       "      <td>Awake and Alive</td>\n",
       "      <td>['Skillet']</td>\n",
       "      <td>0.541985</td>\n",
       "    </tr>\n",
       "    <tr>\n",
       "      <th>17331</th>\n",
       "      <td>Последнее письмо (Гудбай, Америка)</td>\n",
       "      <td>['Nautilus Pompilius']</td>\n",
       "      <td>0.538474</td>\n",
       "    </tr>\n",
       "    <tr>\n",
       "      <th>5513</th>\n",
       "      <td>Орбит без сахара</td>\n",
       "      <td>['Сплин']</td>\n",
       "      <td>0.536904</td>\n",
       "    </tr>\n",
       "    <tr>\n",
       "      <th>15242</th>\n",
       "      <td>Батарейка</td>\n",
       "      <td>['Жуки']</td>\n",
       "      <td>0.533266</td>\n",
       "    </tr>\n",
       "    <tr>\n",
       "      <th>5844</th>\n",
       "      <td>Штиль</td>\n",
       "      <td>['Ария']</td>\n",
       "      <td>0.530615</td>\n",
       "    </tr>\n",
       "  </tbody>\n",
       "</table>\n",
       "</div>\n",
       "      <button class=\"colab-df-convert\" onclick=\"convertToInteractive('df-8c5dc171-44ed-42c5-808a-b07d5b01dc4a')\"\n",
       "              title=\"Convert this dataframe to an interactive table.\"\n",
       "              style=\"display:none;\">\n",
       "        \n",
       "  <svg xmlns=\"http://www.w3.org/2000/svg\" height=\"24px\"viewBox=\"0 0 24 24\"\n",
       "       width=\"24px\">\n",
       "    <path d=\"M0 0h24v24H0V0z\" fill=\"none\"/>\n",
       "    <path d=\"M18.56 5.44l.94 2.06.94-2.06 2.06-.94-2.06-.94-.94-2.06-.94 2.06-2.06.94zm-11 1L8.5 8.5l.94-2.06 2.06-.94-2.06-.94L8.5 2.5l-.94 2.06-2.06.94zm10 10l.94 2.06.94-2.06 2.06-.94-2.06-.94-.94-2.06-.94 2.06-2.06.94z\"/><path d=\"M17.41 7.96l-1.37-1.37c-.4-.4-.92-.59-1.43-.59-.52 0-1.04.2-1.43.59L10.3 9.45l-7.72 7.72c-.78.78-.78 2.05 0 2.83L4 21.41c.39.39.9.59 1.41.59.51 0 1.02-.2 1.41-.59l7.78-7.78 2.81-2.81c.8-.78.8-2.07 0-2.86zM5.41 20L4 18.59l7.72-7.72 1.47 1.35L5.41 20z\"/>\n",
       "  </svg>\n",
       "      </button>\n",
       "      \n",
       "  <style>\n",
       "    .colab-df-container {\n",
       "      display:flex;\n",
       "      flex-wrap:wrap;\n",
       "      gap: 12px;\n",
       "    }\n",
       "\n",
       "    .colab-df-convert {\n",
       "      background-color: #E8F0FE;\n",
       "      border: none;\n",
       "      border-radius: 50%;\n",
       "      cursor: pointer;\n",
       "      display: none;\n",
       "      fill: #1967D2;\n",
       "      height: 32px;\n",
       "      padding: 0 0 0 0;\n",
       "      width: 32px;\n",
       "    }\n",
       "\n",
       "    .colab-df-convert:hover {\n",
       "      background-color: #E2EBFA;\n",
       "      box-shadow: 0px 1px 2px rgba(60, 64, 67, 0.3), 0px 1px 3px 1px rgba(60, 64, 67, 0.15);\n",
       "      fill: #174EA6;\n",
       "    }\n",
       "\n",
       "    [theme=dark] .colab-df-convert {\n",
       "      background-color: #3B4455;\n",
       "      fill: #D2E3FC;\n",
       "    }\n",
       "\n",
       "    [theme=dark] .colab-df-convert:hover {\n",
       "      background-color: #434B5C;\n",
       "      box-shadow: 0px 1px 3px 1px rgba(0, 0, 0, 0.15);\n",
       "      filter: drop-shadow(0px 1px 2px rgba(0, 0, 0, 0.3));\n",
       "      fill: #FFFFFF;\n",
       "    }\n",
       "  </style>\n",
       "\n",
       "      <script>\n",
       "        const buttonEl =\n",
       "          document.querySelector('#df-8c5dc171-44ed-42c5-808a-b07d5b01dc4a button.colab-df-convert');\n",
       "        buttonEl.style.display =\n",
       "          google.colab.kernel.accessAllowed ? 'block' : 'none';\n",
       "\n",
       "        async function convertToInteractive(key) {\n",
       "          const element = document.querySelector('#df-8c5dc171-44ed-42c5-808a-b07d5b01dc4a');\n",
       "          const dataTable =\n",
       "            await google.colab.kernel.invokeFunction('convertToInteractive',\n",
       "                                                     [key], {});\n",
       "          if (!dataTable) return;\n",
       "\n",
       "          const docLinkHtml = 'Like what you see? Visit the ' +\n",
       "            '<a target=\"_blank\" href=https://colab.research.google.com/notebooks/data_table.ipynb>data table notebook</a>'\n",
       "            + ' to learn more about interactive tables.';\n",
       "          element.innerHTML = '';\n",
       "          dataTable['output_type'] = 'display_data';\n",
       "          await google.colab.output.renderOutput(dataTable, element);\n",
       "          const docLink = document.createElement('div');\n",
       "          docLink.innerHTML = docLinkHtml;\n",
       "          element.appendChild(docLink);\n",
       "        }\n",
       "      </script>\n",
       "    </div>\n",
       "  </div>\n",
       "  "
      ],
      "text/plain": [
       "                                     name                 artists  similarity\n",
       "5512                           Выхода нет               ['Сплин']    1.000000\n",
       "5517                              Варвара                ['Би-2']    0.649796\n",
       "17328                 Я хочу быть с тобой  ['Nautilus Pompilius']    0.646846\n",
       "2058                      Последний герой                ['КИНО']    0.640997\n",
       "5872                           Я свободен             ['Кипелов']    0.606749\n",
       "2060                         Хочу перемен                ['КИНО']    0.603231\n",
       "5515                               Романс               ['Сплин']    0.590318\n",
       "24284                        Как на войне        ['Агата Кристи']    0.586219\n",
       "4463                              Holiday           ['Green Day']    0.576644\n",
       "2179                      Восьмиклассница                ['КИНО']    0.570639\n",
       "1666                                Faint         ['Linkin Park']    0.569249\n",
       "7767                           ариведерчи             ['Земфира']    0.563957\n",
       "5514                       Весь этот бред               ['Сплин']    0.563263\n",
       "18908                          Painkiller    ['Three Days Grace']    0.557021\n",
       "16224                    Пока горит свеча      ['Машина времени']    0.542628\n",
       "4742                      Awake and Alive             ['Skillet']    0.541985\n",
       "17331  Последнее письмо (Гудбай, Америка)  ['Nautilus Pompilius']    0.538474\n",
       "5513                     Орбит без сахара               ['Сплин']    0.536904\n",
       "15242                           Батарейка                ['Жуки']    0.533266\n",
       "5844                                Штиль                ['Ария']    0.530615"
      ]
     },
     "execution_count": 61,
     "metadata": {},
     "output_type": "execute_result"
    }
   ],
   "source": [
    "similar_tracks = tracks_info.loc[track_idxs][['name', 'artists']]\n",
    "similar_tracks['similarity'] = preds[track_idxs] / np.linalg.norm(model.Q[example_trackId])\n",
    "similar_tracks"
   ]
  }
 ],
 "metadata": {
  "colab": {
   "collapsed_sections": [],
   "name": "Копия блокнота \"recommendations_hw_solved.ipynb\"",
   "provenance": []
  },
  "kernelspec": {
   "display_name": "Python 3 (ipykernel)",
   "language": "python",
   "name": "python3"
  },
  "language_info": {
   "codemirror_mode": {
    "name": "ipython",
    "version": 3
   },
   "file_extension": ".py",
   "mimetype": "text/x-python",
   "name": "python",
   "nbconvert_exporter": "python",
   "pygments_lexer": "ipython3",
   "version": "3.10.4"
  },
  "widgets": {
   "application/vnd.jupyter.widget-state+json": {
    "09367b7a291f4c81a93f79ac3bf09e9b": {
     "model_module": "@jupyter-widgets/controls",
     "model_module_version": "1.5.0",
     "model_name": "HTMLModel",
     "state": {
      "_dom_classes": [],
      "_model_module": "@jupyter-widgets/controls",
      "_model_module_version": "1.5.0",
      "_model_name": "HTMLModel",
      "_view_count": null,
      "_view_module": "@jupyter-widgets/controls",
      "_view_module_version": "1.5.0",
      "_view_name": "HTMLView",
      "description": "",
      "description_tooltip": null,
      "layout": "IPY_MODEL_57bc2e2902994e799d4378888bdb342a",
      "placeholder": "​",
      "style": "IPY_MODEL_4631243cc4dd4d1a8e3ffe3a8da29cf7",
      "value": "100%"
     }
    },
    "0b2d687ab70343a999f3a37dfe030a9c": {
     "model_module": "@jupyter-widgets/base",
     "model_module_version": "1.2.0",
     "model_name": "LayoutModel",
     "state": {
      "_model_module": "@jupyter-widgets/base",
      "_model_module_version": "1.2.0",
      "_model_name": "LayoutModel",
      "_view_count": null,
      "_view_module": "@jupyter-widgets/base",
      "_view_module_version": "1.2.0",
      "_view_name": "LayoutView",
      "align_content": null,
      "align_items": null,
      "align_self": null,
      "border": null,
      "bottom": null,
      "display": null,
      "flex": null,
      "flex_flow": null,
      "grid_area": null,
      "grid_auto_columns": null,
      "grid_auto_flow": null,
      "grid_auto_rows": null,
      "grid_column": null,
      "grid_gap": null,
      "grid_row": null,
      "grid_template_areas": null,
      "grid_template_columns": null,
      "grid_template_rows": null,
      "height": null,
      "justify_content": null,
      "justify_items": null,
      "left": null,
      "margin": null,
      "max_height": null,
      "max_width": null,
      "min_height": null,
      "min_width": null,
      "object_fit": null,
      "object_position": null,
      "order": null,
      "overflow": null,
      "overflow_x": null,
      "overflow_y": null,
      "padding": null,
      "right": null,
      "top": null,
      "visibility": null,
      "width": null
     }
    },
    "1b31eda686b54f7ca8c66aef18c987f3": {
     "model_module": "@jupyter-widgets/controls",
     "model_module_version": "1.5.0",
     "model_name": "HBoxModel",
     "state": {
      "_dom_classes": [],
      "_model_module": "@jupyter-widgets/controls",
      "_model_module_version": "1.5.0",
      "_model_name": "HBoxModel",
      "_view_count": null,
      "_view_module": "@jupyter-widgets/controls",
      "_view_module_version": "1.5.0",
      "_view_name": "HBoxView",
      "box_style": "",
      "children": [
       "IPY_MODEL_c8a26ff7a9504ca7b9982a1fdc958364",
       "IPY_MODEL_55a177c209e6414d8daae0aae25ab569",
       "IPY_MODEL_5696660af0a04fbbb0743796bdd5f9b3"
      ],
      "layout": "IPY_MODEL_35c5904b82544e9cac71cf7b0b67cc1e"
     }
    },
    "2571c66c254d4a6c9ae5a20812e41641": {
     "model_module": "@jupyter-widgets/controls",
     "model_module_version": "1.5.0",
     "model_name": "DescriptionStyleModel",
     "state": {
      "_model_module": "@jupyter-widgets/controls",
      "_model_module_version": "1.5.0",
      "_model_name": "DescriptionStyleModel",
      "_view_count": null,
      "_view_module": "@jupyter-widgets/base",
      "_view_module_version": "1.2.0",
      "_view_name": "StyleView",
      "description_width": ""
     }
    },
    "2943eba3c235416b809e23186d5625ef": {
     "model_module": "@jupyter-widgets/base",
     "model_module_version": "1.2.0",
     "model_name": "LayoutModel",
     "state": {
      "_model_module": "@jupyter-widgets/base",
      "_model_module_version": "1.2.0",
      "_model_name": "LayoutModel",
      "_view_count": null,
      "_view_module": "@jupyter-widgets/base",
      "_view_module_version": "1.2.0",
      "_view_name": "LayoutView",
      "align_content": null,
      "align_items": null,
      "align_self": null,
      "border": null,
      "bottom": null,
      "display": null,
      "flex": null,
      "flex_flow": null,
      "grid_area": null,
      "grid_auto_columns": null,
      "grid_auto_flow": null,
      "grid_auto_rows": null,
      "grid_column": null,
      "grid_gap": null,
      "grid_row": null,
      "grid_template_areas": null,
      "grid_template_columns": null,
      "grid_template_rows": null,
      "height": null,
      "justify_content": null,
      "justify_items": null,
      "left": null,
      "margin": null,
      "max_height": null,
      "max_width": null,
      "min_height": null,
      "min_width": null,
      "object_fit": null,
      "object_position": null,
      "order": null,
      "overflow": null,
      "overflow_x": null,
      "overflow_y": null,
      "padding": null,
      "right": null,
      "top": null,
      "visibility": null,
      "width": null
     }
    },
    "2ded17a125a44376abbe87ef29f2aa17": {
     "model_module": "@jupyter-widgets/controls",
     "model_module_version": "1.5.0",
     "model_name": "ProgressStyleModel",
     "state": {
      "_model_module": "@jupyter-widgets/controls",
      "_model_module_version": "1.5.0",
      "_model_name": "ProgressStyleModel",
      "_view_count": null,
      "_view_module": "@jupyter-widgets/base",
      "_view_module_version": "1.2.0",
      "_view_name": "StyleView",
      "bar_color": null,
      "description_width": ""
     }
    },
    "3339a154ce00450b8d07b45eda2e887c": {
     "model_module": "@jupyter-widgets/controls",
     "model_module_version": "1.5.0",
     "model_name": "FloatProgressModel",
     "state": {
      "_dom_classes": [],
      "_model_module": "@jupyter-widgets/controls",
      "_model_module_version": "1.5.0",
      "_model_name": "FloatProgressModel",
      "_view_count": null,
      "_view_module": "@jupyter-widgets/controls",
      "_view_module_version": "1.5.0",
      "_view_name": "ProgressView",
      "bar_style": "success",
      "description": "",
      "description_tooltip": null,
      "layout": "IPY_MODEL_a0cfdce0ec8544c49332cc831f67e777",
      "max": 241,
      "min": 0,
      "orientation": "horizontal",
      "style": "IPY_MODEL_c5b91a082e7d40879f66b6685fdfcfe0",
      "value": 241
     }
    },
    "35c5904b82544e9cac71cf7b0b67cc1e": {
     "model_module": "@jupyter-widgets/base",
     "model_module_version": "1.2.0",
     "model_name": "LayoutModel",
     "state": {
      "_model_module": "@jupyter-widgets/base",
      "_model_module_version": "1.2.0",
      "_model_name": "LayoutModel",
      "_view_count": null,
      "_view_module": "@jupyter-widgets/base",
      "_view_module_version": "1.2.0",
      "_view_name": "LayoutView",
      "align_content": null,
      "align_items": null,
      "align_self": null,
      "border": null,
      "bottom": null,
      "display": null,
      "flex": null,
      "flex_flow": null,
      "grid_area": null,
      "grid_auto_columns": null,
      "grid_auto_flow": null,
      "grid_auto_rows": null,
      "grid_column": null,
      "grid_gap": null,
      "grid_row": null,
      "grid_template_areas": null,
      "grid_template_columns": null,
      "grid_template_rows": null,
      "height": null,
      "justify_content": null,
      "justify_items": null,
      "left": null,
      "margin": null,
      "max_height": null,
      "max_width": null,
      "min_height": null,
      "min_width": null,
      "object_fit": null,
      "object_position": null,
      "order": null,
      "overflow": null,
      "overflow_x": null,
      "overflow_y": null,
      "padding": null,
      "right": null,
      "top": null,
      "visibility": null,
      "width": null
     }
    },
    "41b564f7d67b4422abcd5ac9925eb1f2": {
     "model_module": "@jupyter-widgets/controls",
     "model_module_version": "1.5.0",
     "model_name": "HTMLModel",
     "state": {
      "_dom_classes": [],
      "_model_module": "@jupyter-widgets/controls",
      "_model_module_version": "1.5.0",
      "_model_name": "HTMLModel",
      "_view_count": null,
      "_view_module": "@jupyter-widgets/controls",
      "_view_module_version": "1.5.0",
      "_view_name": "HTMLView",
      "description": "",
      "description_tooltip": null,
      "layout": "IPY_MODEL_f0fbd1b9ea074c1b9969417c02b32348",
      "placeholder": "​",
      "style": "IPY_MODEL_7935cc6e74c14372a82276f0a28e4559",
      "value": " 241/241 [00:01&lt;00:00, 158.21it/s]"
     }
    },
    "4631243cc4dd4d1a8e3ffe3a8da29cf7": {
     "model_module": "@jupyter-widgets/controls",
     "model_module_version": "1.5.0",
     "model_name": "DescriptionStyleModel",
     "state": {
      "_model_module": "@jupyter-widgets/controls",
      "_model_module_version": "1.5.0",
      "_model_name": "DescriptionStyleModel",
      "_view_count": null,
      "_view_module": "@jupyter-widgets/base",
      "_view_module_version": "1.2.0",
      "_view_name": "StyleView",
      "description_width": ""
     }
    },
    "55a177c209e6414d8daae0aae25ab569": {
     "model_module": "@jupyter-widgets/controls",
     "model_module_version": "1.5.0",
     "model_name": "FloatProgressModel",
     "state": {
      "_dom_classes": [],
      "_model_module": "@jupyter-widgets/controls",
      "_model_module_version": "1.5.0",
      "_model_name": "FloatProgressModel",
      "_view_count": null,
      "_view_module": "@jupyter-widgets/controls",
      "_view_module_version": "1.5.0",
      "_view_name": "ProgressView",
      "bar_style": "success",
      "description": "",
      "description_tooltip": null,
      "layout": "IPY_MODEL_2943eba3c235416b809e23186d5625ef",
      "max": 241,
      "min": 0,
      "orientation": "horizontal",
      "style": "IPY_MODEL_2ded17a125a44376abbe87ef29f2aa17",
      "value": 241
     }
    },
    "5696660af0a04fbbb0743796bdd5f9b3": {
     "model_module": "@jupyter-widgets/controls",
     "model_module_version": "1.5.0",
     "model_name": "HTMLModel",
     "state": {
      "_dom_classes": [],
      "_model_module": "@jupyter-widgets/controls",
      "_model_module_version": "1.5.0",
      "_model_name": "HTMLModel",
      "_view_count": null,
      "_view_module": "@jupyter-widgets/controls",
      "_view_module_version": "1.5.0",
      "_view_name": "HTMLView",
      "description": "",
      "description_tooltip": null,
      "layout": "IPY_MODEL_0b2d687ab70343a999f3a37dfe030a9c",
      "placeholder": "​",
      "style": "IPY_MODEL_2571c66c254d4a6c9ae5a20812e41641",
      "value": " 241/241 [00:00&lt;00:00, 515.87it/s]"
     }
    },
    "57bc2e2902994e799d4378888bdb342a": {
     "model_module": "@jupyter-widgets/base",
     "model_module_version": "1.2.0",
     "model_name": "LayoutModel",
     "state": {
      "_model_module": "@jupyter-widgets/base",
      "_model_module_version": "1.2.0",
      "_model_name": "LayoutModel",
      "_view_count": null,
      "_view_module": "@jupyter-widgets/base",
      "_view_module_version": "1.2.0",
      "_view_name": "LayoutView",
      "align_content": null,
      "align_items": null,
      "align_self": null,
      "border": null,
      "bottom": null,
      "display": null,
      "flex": null,
      "flex_flow": null,
      "grid_area": null,
      "grid_auto_columns": null,
      "grid_auto_flow": null,
      "grid_auto_rows": null,
      "grid_column": null,
      "grid_gap": null,
      "grid_row": null,
      "grid_template_areas": null,
      "grid_template_columns": null,
      "grid_template_rows": null,
      "height": null,
      "justify_content": null,
      "justify_items": null,
      "left": null,
      "margin": null,
      "max_height": null,
      "max_width": null,
      "min_height": null,
      "min_width": null,
      "object_fit": null,
      "object_position": null,
      "order": null,
      "overflow": null,
      "overflow_x": null,
      "overflow_y": null,
      "padding": null,
      "right": null,
      "top": null,
      "visibility": null,
      "width": null
     }
    },
    "7935cc6e74c14372a82276f0a28e4559": {
     "model_module": "@jupyter-widgets/controls",
     "model_module_version": "1.5.0",
     "model_name": "DescriptionStyleModel",
     "state": {
      "_model_module": "@jupyter-widgets/controls",
      "_model_module_version": "1.5.0",
      "_model_name": "DescriptionStyleModel",
      "_view_count": null,
      "_view_module": "@jupyter-widgets/base",
      "_view_module_version": "1.2.0",
      "_view_name": "StyleView",
      "description_width": ""
     }
    },
    "a0cfdce0ec8544c49332cc831f67e777": {
     "model_module": "@jupyter-widgets/base",
     "model_module_version": "1.2.0",
     "model_name": "LayoutModel",
     "state": {
      "_model_module": "@jupyter-widgets/base",
      "_model_module_version": "1.2.0",
      "_model_name": "LayoutModel",
      "_view_count": null,
      "_view_module": "@jupyter-widgets/base",
      "_view_module_version": "1.2.0",
      "_view_name": "LayoutView",
      "align_content": null,
      "align_items": null,
      "align_self": null,
      "border": null,
      "bottom": null,
      "display": null,
      "flex": null,
      "flex_flow": null,
      "grid_area": null,
      "grid_auto_columns": null,
      "grid_auto_flow": null,
      "grid_auto_rows": null,
      "grid_column": null,
      "grid_gap": null,
      "grid_row": null,
      "grid_template_areas": null,
      "grid_template_columns": null,
      "grid_template_rows": null,
      "height": null,
      "justify_content": null,
      "justify_items": null,
      "left": null,
      "margin": null,
      "max_height": null,
      "max_width": null,
      "min_height": null,
      "min_width": null,
      "object_fit": null,
      "object_position": null,
      "order": null,
      "overflow": null,
      "overflow_x": null,
      "overflow_y": null,
      "padding": null,
      "right": null,
      "top": null,
      "visibility": null,
      "width": null
     }
    },
    "b1c919ee0c85468a89413d98d9926b50": {
     "model_module": "@jupyter-widgets/controls",
     "model_module_version": "1.5.0",
     "model_name": "HBoxModel",
     "state": {
      "_dom_classes": [],
      "_model_module": "@jupyter-widgets/controls",
      "_model_module_version": "1.5.0",
      "_model_name": "HBoxModel",
      "_view_count": null,
      "_view_module": "@jupyter-widgets/controls",
      "_view_module_version": "1.5.0",
      "_view_name": "HBoxView",
      "box_style": "",
      "children": [
       "IPY_MODEL_09367b7a291f4c81a93f79ac3bf09e9b",
       "IPY_MODEL_3339a154ce00450b8d07b45eda2e887c",
       "IPY_MODEL_41b564f7d67b4422abcd5ac9925eb1f2"
      ],
      "layout": "IPY_MODEL_bfd4906b7ffc4ade9650aa96d140860a"
     }
    },
    "bc2f4104184749dbb7dcd2b5c6235238": {
     "model_module": "@jupyter-widgets/controls",
     "model_module_version": "1.5.0",
     "model_name": "DescriptionStyleModel",
     "state": {
      "_model_module": "@jupyter-widgets/controls",
      "_model_module_version": "1.5.0",
      "_model_name": "DescriptionStyleModel",
      "_view_count": null,
      "_view_module": "@jupyter-widgets/base",
      "_view_module_version": "1.2.0",
      "_view_name": "StyleView",
      "description_width": ""
     }
    },
    "bfd4906b7ffc4ade9650aa96d140860a": {
     "model_module": "@jupyter-widgets/base",
     "model_module_version": "1.2.0",
     "model_name": "LayoutModel",
     "state": {
      "_model_module": "@jupyter-widgets/base",
      "_model_module_version": "1.2.0",
      "_model_name": "LayoutModel",
      "_view_count": null,
      "_view_module": "@jupyter-widgets/base",
      "_view_module_version": "1.2.0",
      "_view_name": "LayoutView",
      "align_content": null,
      "align_items": null,
      "align_self": null,
      "border": null,
      "bottom": null,
      "display": null,
      "flex": null,
      "flex_flow": null,
      "grid_area": null,
      "grid_auto_columns": null,
      "grid_auto_flow": null,
      "grid_auto_rows": null,
      "grid_column": null,
      "grid_gap": null,
      "grid_row": null,
      "grid_template_areas": null,
      "grid_template_columns": null,
      "grid_template_rows": null,
      "height": null,
      "justify_content": null,
      "justify_items": null,
      "left": null,
      "margin": null,
      "max_height": null,
      "max_width": null,
      "min_height": null,
      "min_width": null,
      "object_fit": null,
      "object_position": null,
      "order": null,
      "overflow": null,
      "overflow_x": null,
      "overflow_y": null,
      "padding": null,
      "right": null,
      "top": null,
      "visibility": null,
      "width": null
     }
    },
    "c5b91a082e7d40879f66b6685fdfcfe0": {
     "model_module": "@jupyter-widgets/controls",
     "model_module_version": "1.5.0",
     "model_name": "ProgressStyleModel",
     "state": {
      "_model_module": "@jupyter-widgets/controls",
      "_model_module_version": "1.5.0",
      "_model_name": "ProgressStyleModel",
      "_view_count": null,
      "_view_module": "@jupyter-widgets/base",
      "_view_module_version": "1.2.0",
      "_view_name": "StyleView",
      "bar_color": null,
      "description_width": ""
     }
    },
    "c8a26ff7a9504ca7b9982a1fdc958364": {
     "model_module": "@jupyter-widgets/controls",
     "model_module_version": "1.5.0",
     "model_name": "HTMLModel",
     "state": {
      "_dom_classes": [],
      "_model_module": "@jupyter-widgets/controls",
      "_model_module_version": "1.5.0",
      "_model_name": "HTMLModel",
      "_view_count": null,
      "_view_module": "@jupyter-widgets/controls",
      "_view_module_version": "1.5.0",
      "_view_name": "HTMLView",
      "description": "",
      "description_tooltip": null,
      "layout": "IPY_MODEL_eac1572340b3491b987713ddf4fef228",
      "placeholder": "​",
      "style": "IPY_MODEL_bc2f4104184749dbb7dcd2b5c6235238",
      "value": "100%"
     }
    },
    "eac1572340b3491b987713ddf4fef228": {
     "model_module": "@jupyter-widgets/base",
     "model_module_version": "1.2.0",
     "model_name": "LayoutModel",
     "state": {
      "_model_module": "@jupyter-widgets/base",
      "_model_module_version": "1.2.0",
      "_model_name": "LayoutModel",
      "_view_count": null,
      "_view_module": "@jupyter-widgets/base",
      "_view_module_version": "1.2.0",
      "_view_name": "LayoutView",
      "align_content": null,
      "align_items": null,
      "align_self": null,
      "border": null,
      "bottom": null,
      "display": null,
      "flex": null,
      "flex_flow": null,
      "grid_area": null,
      "grid_auto_columns": null,
      "grid_auto_flow": null,
      "grid_auto_rows": null,
      "grid_column": null,
      "grid_gap": null,
      "grid_row": null,
      "grid_template_areas": null,
      "grid_template_columns": null,
      "grid_template_rows": null,
      "height": null,
      "justify_content": null,
      "justify_items": null,
      "left": null,
      "margin": null,
      "max_height": null,
      "max_width": null,
      "min_height": null,
      "min_width": null,
      "object_fit": null,
      "object_position": null,
      "order": null,
      "overflow": null,
      "overflow_x": null,
      "overflow_y": null,
      "padding": null,
      "right": null,
      "top": null,
      "visibility": null,
      "width": null
     }
    },
    "f0fbd1b9ea074c1b9969417c02b32348": {
     "model_module": "@jupyter-widgets/base",
     "model_module_version": "1.2.0",
     "model_name": "LayoutModel",
     "state": {
      "_model_module": "@jupyter-widgets/base",
      "_model_module_version": "1.2.0",
      "_model_name": "LayoutModel",
      "_view_count": null,
      "_view_module": "@jupyter-widgets/base",
      "_view_module_version": "1.2.0",
      "_view_name": "LayoutView",
      "align_content": null,
      "align_items": null,
      "align_self": null,
      "border": null,
      "bottom": null,
      "display": null,
      "flex": null,
      "flex_flow": null,
      "grid_area": null,
      "grid_auto_columns": null,
      "grid_auto_flow": null,
      "grid_auto_rows": null,
      "grid_column": null,
      "grid_gap": null,
      "grid_row": null,
      "grid_template_areas": null,
      "grid_template_columns": null,
      "grid_template_rows": null,
      "height": null,
      "justify_content": null,
      "justify_items": null,
      "left": null,
      "margin": null,
      "max_height": null,
      "max_width": null,
      "min_height": null,
      "min_width": null,
      "object_fit": null,
      "object_position": null,
      "order": null,
      "overflow": null,
      "overflow_x": null,
      "overflow_y": null,
      "padding": null,
      "right": null,
      "top": null,
      "visibility": null,
      "width": null
     }
    }
   }
  }
 },
 "nbformat": 4,
 "nbformat_minor": 5
}
