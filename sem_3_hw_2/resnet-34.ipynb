{
 "cells": [
  {
   "cell_type": "markdown",
   "metadata": {
    "cell_id": 1,
    "id": "kr9vAeEQlRVG"
   },
   "source": [
    "# Домашнее задание 2. Классификация изображений."
   ]
  },
  {
   "cell_type": "markdown",
   "metadata": {
    "cell_id": 3,
    "id": "BxX49gLclRVJ"
   },
   "source": [
    "В этом задании потребуется обучить классификатор изображений. Будем работать с датасетом, название которого раскрывать не будем. Можете посмотреть самостоятельно на картинки, которые в есть датасете. В нём 200 классов и около 5 тысяч картинок на каждый класс. Классы пронумерованы, как нетрудно догадаться, от 0 до 199. Скачать датасет можно вот [тут](https://yadi.sk/d/BNR41Vu3y0c7qA).\n",
    "\n",
    "Структура датасета простая -- есть директории train/ и val/, в которых лежат обучающие и валидационные данные. В train/ и val/ лежат директориии, соответствующие классам изображений, в которых лежат, собственно, сами изображения.\n",
    " \n",
    "__Задание__. Необходимо выполнить два задания\n",
    "\n",
    "1) Добейтесь accuracy **на валидации не менее 0.44**. В этом задании **запрещено** пользоваться предобученными моделями и ресайзом картинок. 5 баллов\n",
    "\n",
    "2) Добейтесь accuracy **на валидации не менее 0.84**. В этом задании делать ресайз и использовать претрейн можно. 5 баллов\n",
    "\n",
    "Напишите краткий отчёт о проделанных экспериментах. Что сработало и что не сработало? Почему вы решили, сделать так, а не иначе? Обязательно указывайте ссылки на чужой код, если вы его используете. Обязательно ссылайтесь на статьи / блогпосты / вопросы на stackoverflow / видосы от ютуберов-машинлернеров / курсы / подсказки от Дяди Васи и прочие дополнительные материалы, если вы их используете. \n",
    "\n",
    "Ваш код обязательно должен проходить все `assert`'ы ниже.\n",
    "\n",
    "__Использовать внешние данные для обучения строго запрещено в обоих заданиях. Также запрещено обучаться на валидационной выборке__.\n",
    "\n",
    "\n",
    "__Критерии оценки__: Оценка вычисляется по простой формуле: `min(10, 10 * Ваша accuracy / 0.44)` для первого задания и `min(10, 10 * (Ваша accuracy - 0.5) / 0.34)` для второго. Оценка округляется до десятых по арифметическим правилам.\n",
    "\n",
    "\n",
    "__Советы и указания__:\n",
    " - Наверняка вам потребуется много гуглить о классификации и о том, как заставить её работать. Это нормально, все гуглят. Но не забывайте, что нужно быть готовым за скатанный код отвечать :)\n",
    " - Используйте аугментации. Для этого пользуйтесь модулем `torchvision.transforms` или библиотекой [albumentations](https://github.com/albumentations-team/albumentations)\n",
    " - Можно обучать с нуля или файнтюнить (в зависимости от задания) модели из `torchvision`.\n",
    " - Рекомендуем написать вам сначала класс-датасет (или воспользоваться классом `ImageFolder`), который возвращает картинки и соответствующие им классы, а затем функции для трейна по шаблонам ниже. Однако делать это мы не заставляем. Если вам так неудобно, то можете писать код в удобном стиле. Однако учтите, что чрезмерное изменение нижеперечисленных шаблонов увеличит количество вопросов к вашему коду и повысит вероятность вызова на защиту :)\n",
    " - Валидируйте. Трекайте ошибки как можно раньше, чтобы не тратить время впустую.\n",
    " - Чтобы быстро отладить код, пробуйте обучаться на маленькой части датасета (скажем, 5-10 картинок просто чтобы убедиться что код запускается). Когда вы поняли, что смогли всё отдебажить, переходите обучению по всему датасету\n",
    " - На каждый запуск делайте ровно одно изменение в модели/аугментации/оптимайзере, чтобы понять, что и как влияет на результат.\n",
    " - Фиксируйте random seed.\n",
    " - Начинайте с простых моделей и постепенно переходите к сложным. Обучение лёгких моделей экономит много времени.\n",
    " - Ставьте расписание на learning rate. Уменьшайте его, когда лосс на валидации перестаёт убывать.\n",
    " - Советуем использовать GPU. Если у вас его нет, используйте google colab. Если вам неудобно его использовать на постоянной основе, напишите и отладьте весь код локально на CPU, а затем запустите уже написанный ноутбук в колабе. Авторское решение задания достигает требуемой точности в колабе за 15 минут обучения.\n",
    " \n",
    "Good luck & have fun! :)"
   ]
  },
  {
   "cell_type": "code",
   "execution_count": null,
   "metadata": {
    "id": "BaPSFxIz96tY",
    "scrolled": false
   },
   "outputs": [],
   "source": [
    "# !pip install wandb\n",
    "!pip3 install pytorch_lightning torchmetrics"
   ]
  },
  {
   "cell_type": "code",
   "execution_count": null,
   "metadata": {},
   "outputs": [],
   "source": [
    "!pip install wandb"
   ]
  },
  {
   "cell_type": "code",
   "execution_count": 1,
   "metadata": {
    "id": "EWT3aFU9XmLJ"
   },
   "outputs": [
    {
     "name": "stderr",
     "output_type": "stream",
     "text": [
      "\u001b[34m\u001b[1mwandb\u001b[0m: Currently logged in as: \u001b[33mkrot\u001b[0m. Use \u001b[1m`wandb login --relogin`\u001b[0m to force relogin\n"
     ]
    },
    {
     "data": {
      "text/plain": [
       "True"
      ]
     },
     "execution_count": 1,
     "metadata": {},
     "output_type": "execute_result"
    }
   ],
   "source": [
    "# Возможно ниже будет не очень работать WandbLogger с первого разу, перезапустите kernel тетрадки\n",
    "import wandb\n",
    "\n",
    "wandb.login()"
   ]
  },
  {
   "cell_type": "code",
   "execution_count": 2,
   "metadata": {
    "cell_id": 4,
    "id": "LKcSNj4tlRVK"
   },
   "outputs": [],
   "source": [
    "import math\n",
    "import os\n",
    "import random\n",
    "import sys\n",
    "\n",
    "import matplotlib.pyplot as plt\n",
    "import numpy as np\n",
    "import pytorch_lightning as pl\n",
    "import torch\n",
    "import torchvision\n",
    "import torchvision.transforms as transforms\n",
    "from PIL import Image\n",
    "from pytorch_lightning.loggers import WandbLogger\n",
    "from torch import nn\n",
    "from torch.nn import functional as F\n",
    "from torch.utils.data import DataLoader\n",
    "from torchmetrics.functional import accuracy \n",
    "from torchvision.datasets import ImageFolder\n",
    "from tqdm import tqdm\n",
    "\n",
    "# You may add any imports you need"
   ]
  },
  {
   "cell_type": "code",
   "execution_count": 3,
   "metadata": {
    "id": "47YPLjDL-Mtv"
   },
   "outputs": [],
   "source": [
    "def seed_everything(seed):\n",
    "    # Фискирует максимум сидов.\n",
    "    # Это понадобится, чтобы сравнение оптимизаторов было корректным\n",
    "    random.seed(seed)\n",
    "    os.environ[\"PYTHONHASHSEED\"] = str(seed)\n",
    "    np.random.seed(seed)\n",
    "    torch.manual_seed(seed)\n",
    "    torch.cuda.manual_seed(seed)\n",
    "    torch.backends.cudnn.deterministic = True\n",
    "\n",
    "\n",
    "seed_everything(123456)"
   ]
  },
  {
   "cell_type": "code",
   "execution_count": 4,
   "metadata": {},
   "outputs": [],
   "source": [
    "device = torch.device(\"cuda\") if torch.cuda.is_available() else torch.device(\"cpu\")"
   ]
  },
  {
   "cell_type": "code",
   "execution_count": null,
   "metadata": {
    "id": "gVKdh063AzhH"
   },
   "outputs": [],
   "source": [
    "#!wget https://www.dropbox.com/s/33l8lp62rmvtx40/dataset.zip?dl=1 -O dataset.zip && unzip -q dataset.zip"
   ]
  },
  {
   "cell_type": "markdown",
   "metadata": {
    "id": "RytEDW0ylRVN"
   },
   "source": [
    "## Задание 0"
   ]
  },
  {
   "cell_type": "markdown",
   "metadata": {
    "id": "2HZECedTvepi"
   },
   "source": [
    "### Что поможет сделать на 10 из 10 (одно задание - 5 баллов)"
   ]
  },
  {
   "cell_type": "markdown",
   "metadata": {
    "id": "dOioHGEiveso"
   },
   "source": [
    "1. Использовать все возможные методы оптимизации и эксперемнтировать с ними.\n",
    "2. Подбор learning rate. Пример из прошлого семинара как это делать: [Как найти lr](https://pytorch-lightning.readthedocs.io/en/1.4.5/advanced/lr_finder.html)\n",
    "\n",
    "```\n",
    "  trainer = pl.Trainer(accelerator=\"gpu\", max_epochs=2, auto_lr_find=True) \n",
    "\n",
    "  trainer.tune(module, train_dataloader, eval_dataloader)\n",
    "\n",
    "  trainer.fit(module, train_dataloader, eval_dataloader))\n",
    "```\n",
    "\n",
    "\n",
    "\n",
    "3. Аугментация данных. [Документация (полезная)](https://pytorch.org/vision/main/transforms.html), а также [библиотека albumentation](https://towardsdatascience.com/getting-started-with-albumentation-winning-deep-learning-image-augmentation-technique-in-pytorch-47aaba0ee3f8)\n",
    "4. Подбор архитектуры модели. \n",
    "5. Можно написать модель руками свою в YourNet, а можно импортировать не предобученную сетку известной архитектуры из модуля torchvision.models. Один из способов как можно сделать: \n",
    "\n",
    "  * `torchvision.models.resnet18(pretrained=False, num_classes=200).to(device)`\n",
    "  * Документация по возможным моделям и как их можно брать: [Документация (полезная)](https://pytorch.org/vision/stable/models.html)\n",
    "6. Правильно нормализовывать данные при создании, пример [тык, но тут и в целом гайд от и до](https://www.pluralsight.com/guides/image-classification-with-pytorch)\n",
    "7. Model Checkpointing. Сохраняйте свой прогресс (модели), чтобы когда что-то пойдет не так вы сможете начать с этого места или просто воспроизвести свои результаты модели, которые обучали. \n",
    " * Пример как можно с wandb тут: [Сохраняем лучшие модели в wandb](https://docs.wandb.ai/guides/integrations/lightning)\n",
    " * По простому можно так: [Сохраняем модели в pytorch дока](https://pytorch.org/tutorials/beginner/saving_loading_models.html)"
   ]
  },
  {
   "cell_type": "markdown",
   "metadata": {
    "id": "WYePsQgNRB-n"
   },
   "source": [
    "### Подготовка данных"
   ]
  },
  {
   "cell_type": "code",
   "execution_count": 5,
   "metadata": {},
   "outputs": [],
   "source": [
    "train_transform = transforms.Compose(\n",
    "    [\n",
    "        transforms.ColorJitter(hue=.05, saturation=.05),\n",
    "        transforms.RandomHorizontalFlip(),\n",
    "        transforms.RandomRotation(30),\n",
    "        transforms.ToTensor(),\n",
    "        transforms.Normalize((0.5, 0.5, 0.5), (0.5, 0.5, 0.5))\n",
    "    ]\n",
    ")\n",
    "val_transform = transforms.Compose(\n",
    "    [\n",
    "        transforms.ToTensor(),\n",
    "        #transforms.Normalize((0.5, 0.5, 0.5), (0.5, 0.5, 0.5))\n",
    "    ]\n",
    ")\n"
   ]
  },
  {
   "cell_type": "code",
   "execution_count": 6,
   "metadata": {
    "cell_id": 5,
    "id": "QEdDQtHdlRVO"
   },
   "outputs": [],
   "source": [
    "# YOU CAN DEFINE AUGMENTATIONS HERE\n",
    "\n",
    "#train_dataset = ImageFolder('/dataset/dataset/train', transform=train_transform)\n",
    "#val_dataset = ImageFolder('/dataset/dataset/val', transform=val_transform)\n",
    "train_dataset = ImageFolder('C:/Users/Крот/Documents/GitHub/Iad_git/sem_3_hw_2/dataset/dataset/train',transform=train_transform)\n",
    "val_dataset = ImageFolder('C:/Users/Крот/Documents/GitHub/Iad_git/sem_3_hw_2/dataset/dataset/val', transform=val_transform)\n",
    "# REPLACE ./dataset/dataset WITH THE FOLDER WHERE YOU DOWNLOADED AND UNZIPPED THE DATASET\n",
    "\n",
    "train_dataloader = DataLoader(train_dataset, \n",
    "    batch_size=16,\n",
    "    shuffle=True, \n",
    "    num_workers=1) # YOUR CODE HERE\n",
    "val_dataloader = DataLoader(val_dataset, \n",
    "    batch_size=16,\n",
    "    shuffle=False, \n",
    "    num_workers=1) # YOUR CODE HERE"
   ]
  },
  {
   "cell_type": "code",
   "execution_count": 7,
   "metadata": {
    "cell_id": 6,
    "id": "mrg4Yj0VlRVP"
   },
   "outputs": [
    {
     "name": "stdout",
     "output_type": "stream",
     "text": [
      "tests passed\n"
     ]
    }
   ],
   "source": [
    "# Just very simple sanity checks\n",
    "assert isinstance(train_dataset[0], tuple)\n",
    "assert len(train_dataset[0]) == 2\n",
    "assert isinstance(train_dataset[1][1], int)\n",
    "print(\"tests passed\")"
   ]
  },
  {
   "cell_type": "markdown",
   "metadata": {
    "id": "EOuM0EEYj7Ml"
   },
   "source": [
    "### Посмотрим на картиночки"
   ]
  },
  {
   "cell_type": "code",
   "execution_count": 8,
   "metadata": {
    "id": "DeuB0YC3LYRm",
    "scrolled": true
   },
   "outputs": [
    {
     "name": "stdout",
     "output_type": "stream",
     "text": [
      "torch.Size([3, 64, 64])\n",
      "torch.Size([3, 64, 64])\n",
      "torch.Size([3, 64, 64])\n",
      "torch.Size([3, 64, 64])\n",
      "torch.Size([3, 64, 64])\n",
      "torch.Size([3, 64, 64])\n",
      "torch.Size([3, 64, 64])\n",
      "torch.Size([3, 64, 64])\n",
      "torch.Size([3, 64, 64])\n",
      "torch.Size([3, 64, 64])\n",
      "torch.Size([3, 64, 64])\n",
      "torch.Size([3, 64, 64])\n",
      "torch.Size([3, 64, 64])\n",
      "torch.Size([3, 64, 64])\n",
      "torch.Size([3, 64, 64])\n",
      "torch.Size([3, 64, 64])\n"
     ]
    }
   ],
   "source": [
    "for batch in train_dataloader:\n",
    "    images, class_nums = batch\n",
    "    for i in range(len(images)):\n",
    "        #plt.imshow(images[i].permute(1, 2, 0))\n",
    "        print(images[i].size())\n",
    "        #plt.show()\n",
    "        #plt.imshow(images[10].permute(1, 2, 0))\n",
    "        #plt.show()\n",
    "    break"
   ]
  },
  {
   "cell_type": "markdown",
   "metadata": {
    "id": "LCwKB-3nKm1-"
   },
   "source": [
    "## Задание 1. \n",
    "\n",
    "5 баллов\n",
    "Добейтесь accuracy на валидации не менее 0.44. В этом задании запрещено пользоваться предобученными моделями и ресайзом картинок.\n",
    "\n",
    "\n",
    "Для того чтобы выбить скор (считается ниже) на 2.5/5 балла (то есть половину за задание) достаточно соблюдать пару простых жизненных правил:\n",
    "1. Аугментация (без нее сложно очень будет)\n",
    "2. Оптимайзеры можно (и нужно) использовать друг с другом. Однако когда что-то проверяете, то не меняйте несколько параметров сразу - собьете логику экспериментов\n",
    "3. Не используйте полносвязные модели или самые первые сверточные, используйте более современные архитектуры (что на лекциях встречались)\n",
    "4. Посмотреть все ноутбуки прошедших семинаров и слепить из них что-то общее. Семинарских тетрадок хватит сверх"
   ]
  },
  {
   "cell_type": "code",
   "execution_count": 9,
   "metadata": {},
   "outputs": [
    {
     "name": "stdout",
     "output_type": "stream",
     "text": [
      "0\n",
      "1\n"
     ]
    }
   ],
   "source": [
    "for i in range(2):\n",
    "    print(i)"
   ]
  },
  {
   "cell_type": "markdown",
   "metadata": {
    "id": "pWR2l6ymZfRJ"
   },
   "source": [
    "### Модель (или просто импортируйте не предобученную)"
   ]
  },
  {
   "cell_type": "code",
   "execution_count": 10,
   "metadata": {
    "id": "mDYorQXLZhTQ"
   },
   "outputs": [],
   "source": [
    "class YourNet(torch.nn.Module):\n",
    "    def __init__(self,learning_rate,dropout=0.4):\n",
    "        super().__init__()\n",
    "        # -------------------------------------------\n",
    "        # Архитектура сетки\n",
    "        # -------------------------------------------\n",
    "        self.batch_norm1 = torch.nn.BatchNorm2d(3)\n",
    "        #self.batch_norm3 = torch.nn.BatchNorm1d(512)\n",
    "        #self.batch_norm4 = torch.nn.BatchNorm1d(1024)\n",
    "        self.conv0 = torch.nn.Sequential(nn.Conv2d(in_channels=3, out_channels=64, kernel_size=3, stride=1, padding=1),\n",
    "        nn.BatchNorm2d(64),\n",
    "        nn.ELU())\n",
    "        self.conv1 = torch.nn.Sequential( \n",
    "            torch.nn.Conv2d(in_channels=64, out_channels=64, kernel_size=3,padding = 1),\n",
    "            torch.nn.BatchNorm2d(64),\n",
    "            torch.nn.ELU(),\n",
    "            torch.nn.Conv2d(in_channels=64, out_channels=64, kernel_size=3,padding = 1),\n",
    "            torch.nn.Dropout(p=dropout),\n",
    "            torch.nn.BatchNorm2d(64))\n",
    "        self.conv2_0 = torch.nn.Conv2d(in_channels=64, out_channels=128, kernel_size=3,stride = 2,padding=1)\n",
    "        self.conv2_1 = torch.nn.Conv2d(in_channels=128, out_channels=128, kernel_size=3,padding=1)\n",
    "        self.conv2 = torch.nn.Sequential(\n",
    "            torch.nn.BatchNorm2d(128),\n",
    "            torch.nn.ELU(),\n",
    "            torch.nn.Conv2d(in_channels=128, out_channels=128, kernel_size=3,padding=1),\n",
    "            torch.nn.Dropout(p=dropout),\n",
    "            torch.nn.BatchNorm2d(128)\n",
    "        )\n",
    "        self.conv3_0 = torch.nn.Conv2d(in_channels=128, out_channels=256, kernel_size=3,stride = 2,padding=1)\n",
    "        self.conv3_1 = torch.nn.Conv2d(in_channels=256, out_channels=256, kernel_size=3,padding=1)\n",
    "        self.conv3 = torch.nn.Sequential(\n",
    "            torch.nn.BatchNorm2d(256),\n",
    "            torch.nn.ELU(),\n",
    "            torch.nn.Conv2d(in_channels=256, out_channels=256, kernel_size=3,padding=1),\n",
    "            torch.nn.Dropout(p=dropout),\n",
    "            torch.nn.BatchNorm2d(256)\n",
    "        )\n",
    "        self.conv4_0 = torch.nn.Conv2d(in_channels=256, out_channels=512, kernel_size=3,stride = 2,padding=1)\n",
    "        self.conv4_1 = torch.nn.Conv2d(in_channels=512, out_channels=512, kernel_size=3,padding=1)\n",
    "        self.conv4 = torch.nn.Sequential(\n",
    "            torch.nn.BatchNorm2d(512),\n",
    "            torch.nn.ELU(),\n",
    "            torch.nn.Conv2d(in_channels=512, out_channels=512, kernel_size=3,padding=1),\n",
    "            torch.nn.Dropout(p=dropout),\n",
    "            torch.nn.BatchNorm2d(512)\n",
    "        )\n",
    "        self.linear1 = torch.nn.Sequential(torch.nn.Linear(in_features=512, out_features=1024),\n",
    "         torch.nn.ELU(),\n",
    "         torch.nn.BatchNorm1d(1024))                                  \n",
    "        self.linear2 = torch.nn.Sequential(torch.nn.Linear(in_features=1024, out_features=4096),\n",
    "         torch.nn.ReLU(),\n",
    "         torch.nn.BatchNorm1d(4096)) \n",
    "        self.linear3 = torch.nn.Sequential(torch.nn.Linear(in_features=4096, out_features=1024),\n",
    "         torch.nn.ReLU(),\n",
    "         torch.nn.BatchNorm1d(1024))  \n",
    "        self.output = torch.nn.Linear(in_features=1024, out_features=200)\n",
    "        self.maxpool = torch.nn.MaxPool2d(kernel_size=3, stride=2, padding=1)\n",
    "        self.avgpool = nn.AvgPool2d(kernel_size=4, stride=1)\n",
    "        self.relu = torch.nn.ELU()\n",
    "        self.concat1 = nn.Conv2d(in_channels=64, out_channels=128, kernel_size=1, stride=2)\n",
    "        self.concat2 = nn.Conv2d(in_channels=128, out_channels=256, kernel_size=1, stride=2)\n",
    "        self.concat3 = nn.Conv2d(in_channels=256, out_channels=512, kernel_size=1, stride=2)\n",
    "        # -------------------------------------------\n",
    "        #Вспомогательные параметры и функции\n",
    "        # -------------------------------------------\n",
    "        self.loss_func = torch.nn.CrossEntropyLoss()\n",
    "        self.targets = torch.Tensor()\n",
    "        self.preds = torch.Tensor()\n",
    "\n",
    "        \n",
    "    def _forward(self, x):\n",
    "      #block - 0\n",
    "        x = self.conv0(x)\n",
    "        y = self.maxpool(x)\n",
    "      # block - 1\n",
    "        x = self.conv1(y)\n",
    "        y= self.relu(x+y)\n",
    "        x = self.conv1(y)\n",
    "        y= self.relu(x+y)\n",
    "        x = self.conv1(y)\n",
    "        y= self.relu(x+y)\n",
    "      #block - 2\n",
    "        x = self.conv2_0(y)\n",
    "        x = self.conv2(x)\n",
    "        y= self.relu(self.concat1(y)+x)\n",
    "        x = self.conv2_1(y)\n",
    "        x=self.conv2(x)\n",
    "        y=self.relu(x+y)\n",
    "        x = self.conv2_1(y)\n",
    "        x=self.conv2(x)\n",
    "        y=self.relu(x+y)\n",
    "        x = self.conv2_1(y)\n",
    "        x=self.conv2(x)\n",
    "        y=self.relu(x+y)\n",
    "      #block - 3\n",
    "        x = self.conv3_0(y)\n",
    "        x=self.conv3(x)\n",
    "        y=self.relu(self.concat2(y)+x)\n",
    "        x = self.conv3_1(y)\n",
    "        x=self.conv3(x)\n",
    "        y=self.relu(x+y)\n",
    "        x = self.conv3_1(y)\n",
    "        x=self.conv3(x)\n",
    "        y=self.relu(x+y)\n",
    "        x = self.conv3_1(y)\n",
    "        x=self.conv3(x)\n",
    "        y=self.relu(x+y)\n",
    "        x = self.conv3_1(y)\n",
    "        x=self.conv3(x)\n",
    "        y=self.relu(x+y)\n",
    "        x = self.conv3_1(y)\n",
    "        x=self.conv3(x)\n",
    "        y=self.relu(x+y)\n",
    "      # block - 4\n",
    "        x = self.conv4_0(y)\n",
    "        x=self.conv4(x)\n",
    "        y=self.relu(self.concat3(y)+x)\n",
    "        x = self.conv4_1(y)\n",
    "        x=self.conv4(x)\n",
    "        y=self.relu(x+y)\n",
    "        x = self.conv4_1(y)\n",
    "        x=self.conv4(x)\n",
    "        y=self.relu(x+y)\n",
    "        x = self.avgpool(y)\n",
    "      # block - classifier\n",
    "        x = x.view(x.size(0), -1)\n",
    "        x = self.linear1(x)\n",
    "        return self.output(x)\n",
    "    \n",
    "    def forward(self, images, target=None):\n",
    "        output = self._forward(images)\n",
    "        # get accuracy score and save it to self.accuracy\n",
    "        if target is not None:\n",
    "            loss = self.loss_func(output, target)\n",
    "\n",
    "            self.targets = torch.cat((self.targets, target.cpu()), 0)\n",
    "            pred = torch.argmax(output, dim=-1)\n",
    "            self.preds = torch.cat((self.preds, pred.cpu()), 0)\n",
    "            self.accuracy = accuracy(self.preds.to(torch.int64), self.targets.to(torch.int64))\n",
    "\n",
    "        return loss\n",
    "    \n",
    "        \n",
    "    def get_accuracy(self, reset=False):\n",
    "        # return accuracy by all values till now\n",
    "        if reset:\n",
    "            self.targets = torch.Tensor()\n",
    "            self.preds = torch.Tensor() \n",
    "        return self.accuracy"
   ]
  },
  {
   "cell_type": "markdown",
   "metadata": {
    "id": "f7iHXWj1alM1"
   },
   "source": [
    "### Тренировочный класс lightning"
   ]
  },
  {
   "cell_type": "code",
   "execution_count": 11,
   "metadata": {
    "id": "lD76TeZ1apua"
   },
   "outputs": [],
   "source": [
    "class YourModule(pl.LightningModule):\n",
    "    def __init__(self, model, learning_rate):\n",
    "        super().__init__()\n",
    "        self.model = model\n",
    "        self.lr = learning_rate\n",
    "        pass\n",
    "\n",
    "    def forward(self, x):\n",
    "        return self.model(x)\n",
    "\n",
    "    def configure_optimizers(self):\n",
    "        optimizer = torch.optim.Adam(self.parameters(), lr=self.lr)\n",
    "        return optimizer\n",
    "\n",
    "    def training_step(self, train_batch, batch_idx):\n",
    "        images, target = train_batch\n",
    "        loss = self.model(images, target)\n",
    "        self.log(\"train_loss\", loss, prog_bar=True)  # сохраняет логи в папку, но можно несложно добавить wandb\n",
    "        self.log(\"accuracy_train\",model.get_accuracy(),prog_bar=True)\n",
    "        return loss\n",
    "\n",
    "    def validation_step(self, val_batch, batch_idx):\n",
    "        images, target = val_batch\n",
    "        loss = self.model(images, target)\n",
    "        self.log(\"val_loss\", loss, prog_bar=True)\n",
    "        self.log(\"accuracy_val\",model.get_accuracy(),prog_bar=True)"
   ]
  },
  {
   "cell_type": "code",
   "execution_count": 12,
   "metadata": {},
   "outputs": [],
   "source": [
    "lr = 1e-3"
   ]
  },
  {
   "cell_type": "code",
   "execution_count": 13,
   "metadata": {
    "id": "z9-1wq7QYkiz"
   },
   "outputs": [
    {
     "data": {
      "text/html": [
       "Tracking run with wandb version 0.13.4"
      ],
      "text/plain": [
       "<IPython.core.display.HTML object>"
      ]
     },
     "metadata": {},
     "output_type": "display_data"
    },
    {
     "data": {
      "text/html": [
       "Run data is saved locally in <code>.\\wandb\\run-20221101_094317-2efdqm70</code>"
      ],
      "text/plain": [
       "<IPython.core.display.HTML object>"
      ]
     },
     "metadata": {},
     "output_type": "display_data"
    },
    {
     "data": {
      "text/html": [
       "Syncing run <strong><a href=\"https://wandb.ai/krot/lightning_logs/runs/2efdqm70\" target=\"_blank\">kind-glitter-17</a></strong> to <a href=\"https://wandb.ai/krot/lightning_logs\" target=\"_blank\">Weights & Biases</a> (<a href=\"https://wandb.me/run\" target=\"_blank\">docs</a>)<br/>"
      ],
      "text/plain": [
       "<IPython.core.display.HTML object>"
      ]
     },
     "metadata": {},
     "output_type": "display_data"
    }
   ],
   "source": [
    "wandb_logger = WandbLogger(log_model='all') # какие возможности дает с pytorch_lightning https://docs.wandb.ai/guides/integrations/lightning\n",
    "\n",
    "model = YourNet(lr).to(device) # YOUR CODE HERE\n",
    "module = YourModule(\n",
    "model,\n",
    "learning_rate=lr ) # YOUR CODE HERE"
   ]
  },
  {
   "cell_type": "code",
   "execution_count": 14,
   "metadata": {
    "id": "If8fi4HZkN3J"
   },
   "outputs": [
    {
     "name": "stderr",
     "output_type": "stream",
     "text": [
      "GPU available: False, used: False\n",
      "TPU available: False, using: 0 TPU cores\n",
      "IPU available: False, using: 0 IPUs\n",
      "HPU available: False, using: 0 HPUs\n",
      "c:\\users\\крот\\appdata\\local\\programs\\python\\python39\\lib\\site-packages\\pytorch_lightning\\trainer\\connectors\\data_connector.py:236: PossibleUserWarning: The dataloader, val_dataloader 0, does not have many workers which may be a bottleneck. Consider increasing the value of the `num_workers` argument` (try 8 which is the number of cpus on this machine) in the `DataLoader` init to improve performance.\n",
      "  rank_zero_warn(\n",
      "c:\\users\\крот\\appdata\\local\\programs\\python\\python39\\lib\\site-packages\\pytorch_lightning\\trainer\\connectors\\data_connector.py:236: PossibleUserWarning: The dataloader, train_dataloader, does not have many workers which may be a bottleneck. Consider increasing the value of the `num_workers` argument` (try 8 which is the number of cpus on this machine) in the `DataLoader` init to improve performance.\n",
      "  rank_zero_warn(\n"
     ]
    },
    {
     "data": {
      "application/json": {
       "ascii": false,
       "bar_format": null,
       "colour": null,
       "elapsed": 0.02600383758544922,
       "initial": 0,
       "n": 0,
       "ncols": null,
       "nrows": 29,
       "postfix": null,
       "prefix": "Finding best initial lr",
       "rate": null,
       "total": 100,
       "unit": "it",
       "unit_divisor": 1000,
       "unit_scale": false
      },
      "application/vnd.jupyter.widget-view+json": {
       "model_id": "ac42b563493b4f6f8708e9dccd324c2e",
       "version_major": 2,
       "version_minor": 0
      },
      "text/plain": [
       "Finding best initial lr:   0%|          | 0/100 [00:00<?, ?it/s]"
      ]
     },
     "metadata": {},
     "output_type": "display_data"
    },
    {
     "name": "stderr",
     "output_type": "stream",
     "text": [
      "`Trainer.fit` stopped: `max_steps=97` reached.\n",
      "LR finder stopped early after 97 steps due to diverging loss.\n",
      "Learning rate set to 0.0004365158322401656\n",
      "Restoring states from the checkpoint path at C:\\Users\\Крот\\Documents\\GitHub\\Iad_git\\sem_3_hw_2\\.lr_find_1d8d73db-cfde-4ed7-aabd-557e6ea42754.ckpt\n",
      "\n",
      "  | Name  | Type    | Params\n",
      "----------------------------------\n",
      "0 | model | YourNet | 17.1 M\n",
      "----------------------------------\n",
      "17.1 M    Trainable params\n",
      "0         Non-trainable params\n",
      "17.1 M    Total params\n",
      "68.532    Total estimated model params size (MB)\n"
     ]
    },
    {
     "data": {
      "application/json": {
       "ascii": false,
       "bar_format": null,
       "colour": null,
       "elapsed": 0.040000200271606445,
       "initial": 0,
       "n": 0,
       "ncols": 119,
       "nrows": 29,
       "postfix": null,
       "prefix": "Sanity Checking",
       "rate": null,
       "total": null,
       "unit": "it",
       "unit_divisor": 1000,
       "unit_scale": false
      },
      "application/vnd.jupyter.widget-view+json": {
       "model_id": "",
       "version_major": 2,
       "version_minor": 0
      },
      "text/plain": [
       "Sanity Checking: 0it [00:00, ?it/s]"
      ]
     },
     "metadata": {},
     "output_type": "display_data"
    },
    {
     "data": {
      "application/json": {
       "ascii": false,
       "bar_format": null,
       "colour": null,
       "elapsed": 0.21561288833618164,
       "initial": 0,
       "n": 0,
       "ncols": 119,
       "nrows": 29,
       "postfix": null,
       "prefix": "Training",
       "rate": null,
       "total": null,
       "unit": "it",
       "unit_divisor": 1000,
       "unit_scale": false
      },
      "application/vnd.jupyter.widget-view+json": {
       "model_id": "a50376145259485a9ec59ee12bf3e396",
       "version_major": 2,
       "version_minor": 0
      },
      "text/plain": [
       "Training: 0it [00:00, ?it/s]"
      ]
     },
     "metadata": {},
     "output_type": "display_data"
    },
    {
     "name": "stderr",
     "output_type": "stream",
     "text": [
      "c:\\users\\крот\\appdata\\local\\programs\\python\\python39\\lib\\site-packages\\pytorch_lightning\\trainer\\trainer.py:653: UserWarning: Detected KeyboardInterrupt, attempting graceful shutdown...\n",
      "  rank_zero_warn(\"Detected KeyboardInterrupt, attempting graceful shutdown...\")\n"
     ]
    }
   ],
   "source": [
    "# trainer = pl.Trainer(logger=wandb_logger)  # YOUR CODE HERE\n",
    "# trainer = pl.Trainer(\n",
    "#     accelerator=\"cpu\",\n",
    "#     max_epochs=2\n",
    "# )\n",
    "# trainer.fit(module, train_dataloader, val_dataloader)\n",
    "# 3.5) we can also find best learning rate like this: https://pytorch-lightning.readthedocs.io/en/1.4.5/advanced/lr_finder.html\n",
    "trainer = pl.Trainer(logger=wandb_logger,accelerator=\"cpu\", max_epochs=2, auto_lr_find=True)    \n",
    "trainer.tune(module, train_dataloader, val_dataloader)\n",
    "trainer.fit(module, train_dataloader, val_dataloader)"
   ]
  },
  {
   "cell_type": "markdown",
   "metadata": {
    "id": "3eoTAB1fSOuk"
   },
   "source": [
    "### Валидация результатов задания"
   ]
  },
  {
   "cell_type": "code",
   "execution_count": null,
   "metadata": {
    "id": "4M_BAiMNl1rL"
   },
   "outputs": [],
   "source": [
    "def evaluate_task(model, test_dataloader):\n",
    "    device = torch.device(\"cuda:0\") if torch.cuda.is_available() else torch.device(\"cpu\")\n",
    "    model = model.to(device)\n",
    "    model.eval()\n",
    "    accuracy = 0.0\n",
    "    for images, labels in tqdm(test_dataloader):\n",
    "        images, labels = images.to(device), labels.to(device)\n",
    "        with torch.no_grad():\n",
    "            loss = model(images, labels)\n",
    "            acc_batch = model.get_accuracy(reset=False)\n",
    "        accuracy += acc_batch\n",
    "    accuracy = accuracy / len(test_dataloader)\n",
    "    return accuracy"
   ]
  },
  {
   "cell_type": "code",
   "execution_count": null,
   "metadata": {
    "id": "TsP57VG8KEfP",
    "scrolled": true
   },
   "outputs": [],
   "source": [
    "model = model\n",
    "\n",
    "accuracy = evaluate_task(model, val_dataloader)\n",
    "print(f\"Оценка за это задание составит {np.clip(10 * accuracy / 0.44, 0, 10):.2f} баллов\")"
   ]
  },
  {
   "cell_type": "code",
   "execution_count": null,
   "metadata": {},
   "outputs": [],
   "source": [
    "print(accuracy)"
   ]
  },
  {
   "cell_type": "code",
   "execution_count": null,
   "metadata": {},
   "outputs": [],
   "source": [
    "model.get_accuracy(reset=True)"
   ]
  },
  {
   "cell_type": "markdown",
   "metadata": {
    "id": "cZqSdlQQKukS"
   },
   "source": [
    "## Задание 2\n",
    "\n",
    "5 баллов\n",
    "Добейтесь accuracy на валидации не менее 0.84. В этом задании делать ресайз и использовать претрейн можно.\n",
    "\n",
    "Для того чтобы выбить скор (считается ниже) на 2.5/5 балла (то есть половину за задание) достаточно соблюдать пару простых жизненных правил:\n",
    "1. Аугментация (без нее сложно очень будет)\n",
    "2. Оптимайзеры можно (и нужно) использовать друг с другом. Однако когда что-то проверяете, то не меняйте несколько параметров сразу - собьете логику экспериментов\n",
    "3. Не используйте полносвязные модели или самые первые сверточные, используйте более современные архитектуры (что на лекциях встречались или можете пойти дальше).\n",
    "4. Попробуйте сначала посмотреть качество исходной модели без дообучения, сохраните как baseline. Отсюда поймете какие слои нужно дообучать.\n",
    "5. Посмотреть все ноутбуки прошедших семинаров и слепить из них что-то общее. Семинарских тетрадок хватит сверх"
   ]
  },
  {
   "cell_type": "markdown",
   "metadata": {
    "id": "zDzXM5rNxNQp"
   },
   "source": [
    "### Модель (или просто импортируйте предобученную)"
   ]
  },
  {
   "cell_type": "code",
   "execution_count": null,
   "metadata": {
    "id": "sDr9l76AxH_9"
   },
   "outputs": [],
   "source": [
    "class YourNet(torch.nn.Module):\n",
    "    def __init__(self):\n",
    "        super().__init__()\n",
    "        # YOUR CODE HERE\n",
    "        pass\n",
    "\n",
    "    def _forward(self, x):\n",
    "        # runs the Neural Network\n",
    "        # YOUR CODE HERE\n",
    "        pass\n",
    "\n",
    "    def forward(self, images, target=None):\n",
    "        # YOUR CODE HERE\n",
    "        pass\n",
    "\n",
    "    def get_accuracy(self, reset=False):\n",
    "        # YOUR CODE HERE\n",
    "        pass"
   ]
  },
  {
   "cell_type": "markdown",
   "metadata": {
    "id": "Flwqk0YjxPLE"
   },
   "source": [
    "### Тренировочный класс lightning"
   ]
  },
  {
   "cell_type": "code",
   "execution_count": null,
   "metadata": {
    "id": "UnKHluO6xID4"
   },
   "outputs": [],
   "source": [
    "class YourModule(pl.LightningModule):\n",
    "    def __init__(self, model, learning_rate):\n",
    "        super().__init__()\n",
    "        # YOUR CODE HERE\n",
    "        pass\n",
    "\n",
    "    def forward(self, x):\n",
    "        # YOUR CODE HERE\n",
    "        pass\n",
    "\n",
    "    def configure_optimizers(self):\n",
    "        # YOUR CODE HERE\n",
    "        pass\n",
    "\n",
    "    def training_step(self, train_batch, batch_idx):\n",
    "        # YOUR CODE HERE\n",
    "        pass\n",
    "\n",
    "    def validation_step(self, val_batch, batch_idx):\n",
    "        # YOUR CODE HERE\n",
    "        pass"
   ]
  },
  {
   "cell_type": "code",
   "execution_count": null,
   "metadata": {
    "id": "lQAjkvkVyhEg"
   },
   "outputs": [],
   "source": [
    "wandb_logger = WandbLogger(log_model='all') # какие возможности дает с pytorch_lightning https://docs.wandb.ai/guides/integrations/lightning\n",
    "device =  # YOUR CODE HERE\n",
    "\n",
    "model = YourNet().to() # YOUR CODE HERE\n",
    "module = YourModule() # YOUR CODE HERE"
   ]
  },
  {
   "cell_type": "code",
   "execution_count": null,
   "metadata": {
    "id": "T4wJgB1YyhG0"
   },
   "outputs": [],
   "source": [
    "trainer = pl.Trainer(logger=wandb_logger)  # YOUR CODE HERE\n",
    "trainer.fit()  # YOUR CODE HERE"
   ]
  },
  {
   "cell_type": "markdown",
   "metadata": {
    "id": "u5D2bwOKSHVp"
   },
   "source": [
    "### Валидация результатов задания"
   ]
  },
  {
   "cell_type": "code",
   "execution_count": null,
   "metadata": {
    "id": "PEdwJE5uOrIM"
   },
   "outputs": [],
   "source": [
    "model = # Подгрузить свою сохраненную модель сюда\n",
    "\n",
    "accuracy = evaluate_task(model, val_dataloader)\n",
    "print(f\"Оценка за это задание составит {np.clip(10 * (accuracy - 0.5) / 0.34, 0, 10):.2f} баллов\")"
   ]
  },
  {
   "cell_type": "markdown",
   "metadata": {
    "cell_id": 15,
    "id": "pT8vfPSolRVb"
   },
   "source": [
    "# Отчёт об экспериментах \n",
    "\n",
    "текст писать тут (или ссылочку на wandb/любой трекер экспреиментов) для каждого задания, то есть не обязательно именно тут рисовать графики, если вы используете готовые трекеры/мониторинги ваших моделей."
   ]
  },
  {
   "cell_type": "code",
   "execution_count": null,
   "metadata": {
    "id": "YkGZ3kuULB55"
   },
   "outputs": [],
   "source": []
  }
 ],
 "metadata": {
  "colab": {
   "collapsed_sections": [],
   "provenance": [],
   "toc_visible": true
  },
  "kernelspec": {
   "display_name": "Python 3 (ipykernel)",
   "language": "python",
   "name": "python3"
  },
  "language_info": {
   "codemirror_mode": {
    "name": "ipython",
    "version": 3
   },
   "file_extension": ".py",
   "mimetype": "text/x-python",
   "name": "python",
   "nbconvert_exporter": "python",
   "pygments_lexer": "ipython3",
   "version": "3.9.2"
  },
  "max_cell_id": 35
 },
 "nbformat": 4,
 "nbformat_minor": 1
}
